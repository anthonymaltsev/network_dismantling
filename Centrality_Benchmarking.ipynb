{
  "cells": [
    {
      "cell_type": "markdown",
      "metadata": {
        "id": "EYW9Eod827hG"
      },
      "source": [
        "# Run prerequisites"
      ]
    },
    {
      "cell_type": "code",
      "execution_count": null,
      "metadata": {
        "id": "su6YN6aBWqcI"
      },
      "outputs": [],
      "source": [
        "import networkx as nx\n",
        "import numpy as np\n",
        "import random\n",
        "import time"
      ]
    },
    {
      "cell_type": "code",
      "execution_count": null,
      "metadata": {},
      "outputs": [],
      "source": [
        "from code import *"
      ]
    },
    {
      "attachments": {},
      "cell_type": "markdown",
      "metadata": {},
      "source": [
        "# Define Graphs"
      ]
    },
    {
      "cell_type": "code",
      "execution_count": null,
      "metadata": {
        "id": "7CTJ9RhxNucX"
      },
      "outputs": [],
      "source": [
        "### Generate graphs ###\n",
        "\n",
        "## Small  ~ 100 nodes\n",
        "## Medium ~ 500 nodes\n",
        "## Large  ~ 1000 nodes\n",
        "# Note that the numbers are not exactly that\n",
        "\n",
        "# 1. BA graphs\n",
        "\n",
        "BA_s = nx.barabasi_albert_graph(100, 10)\n",
        "BA_s_weighted = assign_weights_randomly(BA_s)\n",
        "\n",
        "BA_m = nx.barabasi_albert_graph(500, 50)\n",
        "BA_m_weighted = assign_weights_randomly(BA_m)\n",
        "\n",
        "BA_l = nx.barabasi_albert_graph(1000, 100)\n",
        "BA_l_weighted = assign_weights_randomly(BA_l)\n",
        "\n",
        "# 2. Regular graphs\n",
        "\n",
        "Reg_s = nx.random_regular_graph(10, 100)\n",
        "Reg_s_weighted = assign_weights_randomly(Reg_s)\n",
        "\n",
        "Reg_m = nx.random_regular_graph(50, 500)\n",
        "Reg_m_weighted = assign_weights_randomly(Reg_m)\n",
        "\n",
        "Reg_l = nx.random_regular_graph(100, 1000)\n",
        "Reg_l_weighted = assign_weights_randomly(Reg_l)\n",
        "\n",
        "# 3. ER graphs\n",
        "\n",
        "ER_s = nx.erdos_renyi_graph(100, 0.1)\n",
        "ER_s_weighted = assign_weights_randomly(ER_s)\n",
        "\n",
        "ER_m = nx.erdos_renyi_graph(500, 0.1)\n",
        "ER_m_weighted = assign_weights_randomly(ER_m)\n",
        "\n",
        "ER_l = nx.erdos_renyi_graph(1000, 0.1)\n",
        "ER_l_weighted = assign_weights_randomly(ER_l)\n",
        "\n",
        "# 4. Lobster\n",
        "\n",
        "Lobster_s = nx.random_lobster(100, 0.1, 0.1)\n",
        "Lobster_s_weighted = assign_weights_randomly(Lobster_s)\n",
        "\n",
        "Lobster_m = nx.random_lobster(500, 0.1, 0.1)\n",
        "Lobster_m_weighted = assign_weights_randomly(Lobster_m)\n",
        "\n",
        "Lobster_l = nx.random_lobster(1000, 0.1, 0.1)\n",
        "Lobster_l_weighted = assign_weights_randomly(Lobster_l)\n",
        "\n",
        "# 5. Watts-Strogatz\n",
        "\n",
        "WS_s = nx.watts_strogatz_graph(100, 5, 0.1)\n",
        "WS_s_weighted = assign_weights_randomly(WS_s)\n",
        "\n",
        "WS_m = nx.watts_strogatz_graph(500, 5, 0.1)\n",
        "WS_m_weighted = assign_weights_randomly(WS_s)\n",
        "\n",
        "WS_l = nx.watts_strogatz_graph(1000, 5, 0.1)\n",
        "WS_l_weighted = assign_weights_randomly(WS_l)\n",
        "\n",
        "# 6. SUSC\n",
        "\n",
        "SUSC_s = susc_generator(100, 3, 0.1)\n",
        "SUSC_s_weighted = assign_weights_randomly(SUSC_s)\n",
        "\n",
        "SUSC_m = susc_generator(500, 3, 0.1)\n",
        "SUSC_m_weighted = assign_weights_randomly(SUSC_m)\n",
        "\n",
        "SUSC_l = susc_generator(1000, 3, 0.1)\n",
        "SUSC_l_weighted = assign_weights_randomly(SUSC_l)\n",
        "\n",
        "# 7. Cycle\n",
        "C_s = nx.cycle_graph(100)\n",
        "C_s_weighted = assign_weights_randomly(C_s)\n",
        "\n",
        "C_m = nx.cycle_graph(500)\n",
        "C_m_weighted = assign_weights_randomly(C_m)\n",
        "\n",
        "C_l = nx.cycle_graph(1000)\n",
        "C_l_weighted = assign_weights_randomly(C_l)\n",
        "\n",
        "# 8. Grid\n",
        "G_s = nx.grid_2d_graph(10, 10)\n",
        "G_s_weighted = assign_weights_randomly(G_s)\n",
        "\n",
        "G_m = nx.grid_2d_graph(20, 20)\n",
        "G_m_weighted = assign_weights_randomly(G_m)\n",
        "\n",
        "G_l = nx.grid_2d_graph(30, 30)\n",
        "G_l_weighted = assign_weights_randomly(G_l)\n",
        "\n",
        "# 9. Ladder\n",
        "L_s = nx.ladder_graph(50)\n",
        "L_s_weighted = assign_weights_randomly(L_s)\n",
        "\n",
        "L_m = nx.ladder_graph(250)\n",
        "L_m_weighted = assign_weights_randomly(L_m)\n",
        "\n",
        "L_l = nx.ladder_graph(500)\n",
        "L_l_weighted = assign_weights_randomly(L_l)\n",
        "\n",
        "# 10. Hypergraph\n",
        "H_s = nx.hypercube_graph(7)\n",
        "H_s_weighted = assign_weights_randomly(H_s)\n",
        "\n",
        "H_m = nx.hypercube_graph(9)\n",
        "H_m_weighted = assign_weights_randomly(H_m)\n",
        "\n",
        "H_l = nx.hypercube_graph(10)\n",
        "H_l_weighted = assign_weights_randomly(H_l)\n",
        "\n",
        "small_graphs = [\n",
        "    (\"Small BA\", BA_s_weighted), \n",
        "    (\"Small Reg\", Reg_s_weighted), \n",
        "    (\"Small ER\", ER_s_weighted), \n",
        "    (\"Small Lobster\", Lobster_s_weighted), \n",
        "    (\"Small WS\", WS_s_weighted), \n",
        "    (\"Small SUSC\", SUSC_s_weighted), \n",
        "    (\"Small Cycle\", C_s_weighted), \n",
        "    (\"Small Grid\", G_s_weighted), \n",
        "    (\"Small Ladder\", L_s_weighted), \n",
        "    (\"Small Hyper\", H_s_weighted)\n",
        "]\n",
        "\n",
        "medium_graphs = [\n",
        "    (\"Medium BA\", BA_m_weighted), \n",
        "    (\"Medium Reg\", Reg_m_weighted), \n",
        "    (\"Medium ER\", ER_m_weighted), \n",
        "    (\"Medium Lobster\", Lobster_m_weighted), \n",
        "    (\"Medium WS\", WS_m_weighted), \n",
        "    (\"Medium SUSC\", SUSC_m_weighted), \n",
        "    (\"Medium Cycle\", C_m_weighted), \n",
        "    (\"Medium Grid\", G_m_weighted), \n",
        "    (\"Medium Ladder\", L_m_weighted), \n",
        "    (\"Medium Hyper\", H_m_weighted)\n",
        "]\n",
        "\n",
        "large_graphs = [\n",
        "    (\"Large BA\", BA_l_weighted), \n",
        "    (\"Large Reg\", Reg_l_weighted), \n",
        "    (\"Large ER\", ER_l_weighted), \n",
        "    (\"Large Lobster\", Lobster_l_weighted), \n",
        "    (\"Large WS\", WS_l_weighted), \n",
        "    (\"Large SUSC\", SUSC_l_weighted), \n",
        "    (\"Large Cycle\", C_l_weighted), \n",
        "    (\"Large Grid\", G_l_weighted), \n",
        "    (\"Large Ladder\", L_l_weighted), \n",
        "    (\"Large Hyper\", H_l_weighted)\n",
        "]\n",
        "\n",
        "all_graphs = small_graphs + medium_graphs + large_graphs\n",
        "\n",
        "graphs_by_type = [(small_graphs[i], medium_graphs[i], large_graphs[i]) for i in range(len(small_graphs))]"
      ]
    },
    {
      "attachments": {},
      "cell_type": "markdown",
      "metadata": {},
      "source": [
        "# Define Heuristics"
      ]
    },
    {
      "cell_type": "code",
      "execution_count": null,
      "metadata": {
        "id": "MpC5j7KBloTQ"
      },
      "outputs": [],
      "source": [
        "## Define which heuristics you want to benchmark\n",
        "\n",
        "heuristics = [\n",
        "  ## Extra-greedy heuristics\n",
        "  (\"lightest_node\", lightest_node),\n",
        "  (\"weighted_degree_centrality\", weighted_degree_centrality),\n",
        "  \n",
        "  ## Betweenness heuristics\n",
        "  (\"betweenness_centrality_cd\", betweenness_centrality_cd),\n",
        "  (\"approximate_betweenness_centrality_cd\", approximate_betweenness_centrality_cd),\n",
        "  (\"betweenness_centrality_wsp\", betweenness_centrality_wsp),\n",
        "  (\"approximate_betweenness_centrality_wsp\", approximate_betweenness_centrality_wsp),\n",
        "  \n",
        "  ## Eigenvector centralities\n",
        "  (\"eigenvector_centrality_cd\", eigenvector_centrality_cd),\n",
        "  (\"eigenvector_centrality_weighted_adj\", eigenvector_centrality_weighted_adj),\n",
        "  (\"eigenvector_centrality_combined\", eigenvector_centrality_combined),\n",
        "\n",
        "  ## Current-flow centralities\n",
        "  (\"cfbc_cd\", cfbc_cd),\n",
        "  (\"cfbc_wedge\", cfbc_wedge),\n",
        "  (\"cfbc_wsup\", cfbc_wsup),\n",
        "  (\"cfbc_combined\", cfbc_combined),\n",
        "\n",
        "  ## Laplacian\n",
        "  (\"laplacian_cd\", laplacian_centrality_cd),\n",
        "  (\"modified_laplacian_cd\", modified_laplacian_centrality_cd)\n",
        "]"
      ]
    },
    {
      "cell_type": "markdown",
      "metadata": {
        "id": "w1mSbM1uF3Q2"
      },
      "source": [
        "# Tests by graph type"
      ]
    },
    {
      "cell_type": "code",
      "execution_count": null,
      "metadata": {
        "colab": {
          "base_uri": "https://localhost:8080/"
        },
        "id": "dHtF_qodF332",
        "outputId": "c04ccc0d-c657-41df-c070-b4563b6e0d8c"
      },
      "outputs": [],
      "source": [
        "### Testing Barabási-Albert graphs ###\n",
        "ba_graphs = graphs_by_type[0]\n",
        "results_ba = test_graphs(ba_graphs, \"Barabási-Albert\", heuristics, timeout=300, c=3)"
      ]
    },
    {
      "cell_type": "code",
      "execution_count": null,
      "metadata": {
        "id": "RAEv-flSF7yh"
      },
      "outputs": [],
      "source": [
        "### Testing Regular graphs ###\n",
        "reg_graphs = graphs_by_type[1]\n",
        "results_reg = test_graphs(reg_graphs, \"Regular\", heuristics, timeout=300, c=3)"
      ]
    },
    {
      "cell_type": "code",
      "execution_count": null,
      "metadata": {
        "id": "XNaOSAyXGt52"
      },
      "outputs": [],
      "source": [
        "### Testing Erdős-Rényi graphs ###\n",
        "er_graphs = graphs_by_type[2]\n",
        "results_er = test_graphs(er_graphs, \"Erdős-Rényi\", heuristics, timeout=300, c=3)"
      ]
    },
    {
      "cell_type": "code",
      "execution_count": null,
      "metadata": {
        "id": "KWsQPDgfGuG5"
      },
      "outputs": [],
      "source": [
        "### Testing Lobster graphs ###\n",
        "lobster_graphs = graphs_by_type[3]\n",
        "results_lobster = test_graphs(lobster_graphs, \"Lobster\", heuristics, timeout=300, c=3)"
      ]
    },
    {
      "cell_type": "code",
      "execution_count": null,
      "metadata": {
        "id": "WcEdEsokHDdf"
      },
      "outputs": [],
      "source": [
        "### Testing Watts-Strogatz graphs ###\n",
        "wa_graphs = graphs_by_type[4]\n",
        "results_wa = test_graphs(wa_graphs, \"Watts-Strogatz\", heuristics, timeout=300, c=3)"
      ]
    },
    {
      "cell_type": "code",
      "execution_count": null,
      "metadata": {
        "id": "OMlnP1jmGu7d"
      },
      "outputs": [],
      "source": [
        "### Testing Sea-Urchin Sistine-Chapel graphs ###\n",
        "susc_graphs = graphs_by_type[5]\n",
        "results_susc = test_graphs(susc_graphs, \"Sea-Urchin Sistine-Chapel\", heuristics, timeout=300, c=3)"
      ]
    },
    {
      "cell_type": "code",
      "execution_count": null,
      "metadata": {
        "id": "5xDl-OhYGvIg"
      },
      "outputs": [],
      "source": [
        "### Testing Cycle graphs ###\n",
        "cycle_graphs = graphs_by_type[6]\n",
        "results_cycle = test_graphs(cycle_graphs, \"Cycle\", heuristics, timeout=300, c=3)"
      ]
    },
    {
      "cell_type": "code",
      "execution_count": null,
      "metadata": {
        "id": "g7Jimlc-GvSb"
      },
      "outputs": [],
      "source": [
        "### Testing Grid graphs ###\n",
        "grid_graphs = graphs_by_type[7]\n",
        "results_grid = test_graphs(grid_graphs, \"Grid\", heuristics, timeout=300, c=3)"
      ]
    },
    {
      "cell_type": "code",
      "execution_count": null,
      "metadata": {
        "colab": {
          "base_uri": "https://localhost:8080/"
        },
        "id": "s-Ezlpf4Gvfo",
        "outputId": "b19fc336-0b55-49dd-d93e-bd3d09f056eb"
      },
      "outputs": [],
      "source": [
        "### Testing Ladder graphs ###\n",
        "ladder_graphs = graphs_by_type[8]\n",
        "results_ladder = test_graphs(ladder_graphs, \"Ladder\", heuristics, timeout=300, c=3)"
      ]
    },
    {
      "cell_type": "code",
      "execution_count": null,
      "metadata": {
        "id": "eSab7sd5Gvpn"
      },
      "outputs": [],
      "source": [
        "### Testing Hyper graphs ###\n",
        "hyper_graphs = graphs_by_type[9]\n",
        "results_hyper = test_graphs(hyper_graphs, \"Hyper\", heuristics, timeout=300, c=3)"
      ]
    }
  ],
  "metadata": {
    "colab": {
      "collapsed_sections": [
        "EYW9Eod827hG",
        "g5Aojnbu3Mdl"
      ],
      "provenance": []
    },
    "kernelspec": {
      "display_name": "Python 3",
      "name": "python3"
    },
    "language_info": {
      "name": "python"
    }
  },
  "nbformat": 4,
  "nbformat_minor": 0
}
