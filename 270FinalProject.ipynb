{
  "nbformat": 4,
  "nbformat_minor": 0,
  "metadata": {
    "colab": {
      "provenance": [],
      "collapsed_sections": [
        "QynRmnmXtC-Y",
        "Ew7brswjs6W-",
        "cbULcPhds_tX"
      ]
    },
    "kernelspec": {
      "name": "python3",
      "display_name": "Python 3"
    },
    "language_info": {
      "name": "python"
    }
  },
  "cells": [
    {
      "cell_type": "code",
      "execution_count": null,
      "metadata": {
        "id": "Jdmyg47uWcPx"
      },
      "outputs": [],
      "source": [
        "import networkx as nx\n",
        "import matplotlib.pyplot as plt\n",
        "import numpy as np\n",
        "import random\n",
        "import time\n",
        "import math"
      ]
    },
    {
      "cell_type": "code",
      "source": [
        "# Given a betweenness heuristic, greedily removes nodes from the gcc of G, which is better than considering all of G according to [https://downloads.hindawi.com/journals/complexity/2021/1677445.pdf].\n",
        "# We consider weights as \"cost\".\n",
        "# Halts when the size of the GCC in G is less than C = c * N (c is in (0, 1)).\n",
        "# Returns S, the set of nodes to remove to dismantle G.\n",
        "# Does not modify G.\n",
        "def alg(heuristic, _G, c=0.2):\n",
        "  start = time.time()\n",
        "\n",
        "  G = _G.copy()\n",
        "  N = G.number_of_nodes()\n",
        "  S = []\n",
        "\n",
        "  # The connected components are ordered by decreasing size.\n",
        "  gcc = max(nx.connected_components(G), key=len)\n",
        "  size_gcc = len(list(gcc))\n",
        "\n",
        "  while size_gcc > c * N:\n",
        "    node_to_remove = heuristic(gcc, G)\n",
        "    G.remove_node(node_to_remove)\n",
        "    S.append(node_to_remove)\n",
        "\n",
        "    components = nx.connected_components(G)\n",
        "    gcc = max(nx.connected_components(G), key=len)\n",
        "    size_gcc = len(list(gcc))\n",
        "\n",
        "  print(f\"Removed {len(S)} nodes from G.\")\n",
        "  cost = sum(_G.nodes[i]['node weight'] for i in S)\n",
        "  print(f\"Cost: {cost}\")\n",
        "  \n",
        "  # final_ccs = list(nx.connected_components(G))\n",
        "  # average_cc_size = sum(len(G) for G in final_ccs) / len(final_ccs)\n",
        "  # print(f\"gcc size: {size_gcc}\")\n",
        "  # print(f\"Average cc size: {average_cc_size}\")\n",
        "\n",
        "  end = time.time()\n",
        "  print(f\"Time elapsed: {round(end - start, 3)}s\")\n",
        "  return S, G\n",
        "\n",
        "# Runs the above algorithm. Colors nodes in S red.\n",
        "def draw_alg(heuristic, G, c=0.2):\n",
        "  colors = [\"blue\" for _ in range(G.number_of_nodes())]\n",
        "  S, _ = alg(heuristic, G, c)\n",
        "  for node in S:\n",
        "    colors[node] = \"red\"\n",
        "  nx.draw(G, node_color=colors)\n",
        "\n",
        "heuristics = [] # Used to keep track of the centralities\n",
        "heuristics_no_bc = [] # Fast ones only"
      ],
      "metadata": {
        "id": "PHWj24Ympzs6"
      },
      "execution_count": null,
      "outputs": []
    },
    {
      "cell_type": "code",
      "source": [
        "def remove_random_node(gcc, G):\n",
        "  return random.choice(G.nodes())\n",
        "\n",
        "# heuristics.append((\"remove_random_node\", remove_random_node))\n",
        "# heuristics_no_bc.append((\"remove_random_node\", remove_random_node))"
      ],
      "metadata": {
        "id": "8AAqmulRsE2o"
      },
      "execution_count": null,
      "outputs": []
    },
    {
      "cell_type": "code",
      "source": [
        "def remove_lightest_node(gcc, G):\n",
        "  return min(gcc, key=lambda v: G.nodes[v]['node weight'])\n",
        "\n",
        "heuristics.append((\"remove_lightest_node\", remove_lightest_node))\n",
        "heuristics_no_bc.append((\"remove_lightest_node\", remove_lightest_node))"
      ],
      "metadata": {
        "id": "x5Qwf5kFvfY2"
      },
      "execution_count": null,
      "outputs": []
    },
    {
      "cell_type": "code",
      "source": [
        "# Removes the node with highest betweenness centrality.\n",
        "# Not important, but eventual TODO: Implement https://www.researchgate.net/publication/242434858_A_Fast_Algorithm_for_the_Iterative_Calculation_of_Betweenness_Centrality\n",
        "def betweenness_centrality_wsp(gcc, G):\n",
        "  # https://www.hindawi.com/journals/complexity/2021/1677445/\n",
        "  # We find betweenness centrality using weighted shortest paths.\n",
        "  # The higher the weight of a shortest path, the heavier the nodes are on that path. Thus, disconnecting that path is more better.\n",
        "  # (Is this true? TODO: Figure out what networkx is doing here: https://networkx.org/documentation/stable/reference/algorithms/generated/networkx.algorithms.centrality.betweenness_centrality.html)\n",
        "  centrality_dict = nx.betweenness_centrality(G.subgraph(gcc), weight ='edge weight')\n",
        "  return max(gcc, key=lambda v: centrality_dict[v])\n",
        "\n",
        "def betweenness_centrality_cd(gcc, G):\n",
        "  centrality_dict = nx.betweenness_centrality(G.subgraph(gcc), normalized=True)\n",
        "  return max(gcc, key=lambda v: centrality_dict[v] / G.nodes[v]['node weight'])\n",
        "\n",
        "heuristics.append((\"betweenness_centrality_cd\", betweenness_centrality_cd))\n",
        "\n",
        "\n",
        "def betweenness_centrality_endpoint_weights(gcc, G):\n",
        "  shortest_paths = nx.shortest_path(G.subgraph(gcc))\n",
        "  best_vertex, max_centrality = -1, -1\n",
        "  for v in gcc:\n",
        "    centrality = 1\n",
        "    for s in gcc:\n",
        "      for t in gcc:\n",
        "        if v in shortest_paths[s][t]:\n",
        "          centrality += G.nodes[s]['node weight'] \n",
        "          centrality += G.nodes[t]['node weight']\n",
        "    if centrality > max_centrality:\n",
        "      best_vertex, max_centrality = v, centrality\n",
        "  return best_vertex\n",
        "\n",
        "heuristics.append((\"betweenness_centrality_endpoint_weights\", betweenness_centrality_endpoint_weights))\n",
        "\n"
      ],
      "metadata": {
        "id": "LVPqvpWPjIm-"
      },
      "execution_count": null,
      "outputs": []
    },
    {
      "cell_type": "code",
      "source": [
        "# Removes the node with highest betweenness centrality, but only considers log(n) vertices when calculating betweenness centrality.\n",
        "# k := log(n), and the alg itself, from https://www.worldscientific.com/doi/abs/10.1142/S0218127407018403\n",
        "def approximate_betweenness_centrality_wsp(gcc, G):\n",
        "  centrality_dict = nx.betweenness_centrality(G.subgraph(gcc), weight='edge weight', k=max(1, int(np.log(len(gcc)))))\n",
        "  return max(gcc, key=lambda v: centrality_dict[v])\n",
        "\n",
        "heuristics.append((\"approximate_betweenness_centrality_wsp\", approximate_betweenness_centrality_wsp))\n",
        "heuristics_no_bc.append((\"approximate_betweenness_centrality_wsp\", approximate_betweenness_centrality_wsp))\n",
        "\n",
        "def approximate_betweenness_centrality_cd(gcc, G):\n",
        "  centrality_dict = nx.betweenness_centrality(G.subgraph(gcc), k=max(1, int(np.log(len(gcc)))))\n",
        "  return max(gcc, key=lambda v: centrality_dict[v] / G.nodes[v]['node weight'])\n",
        "\n",
        "heuristics.append((\"approximate_betweenness_centrality_cd\", approximate_betweenness_centrality_cd))\n",
        "heuristics_no_bc.append((\"approximate_betweenness_centrality_cd\", approximate_betweenness_centrality_cd))"
      ],
      "metadata": {
        "id": "awxygO-gDZIp"
      },
      "execution_count": null,
      "outputs": []
    },
    {
      "cell_type": "code",
      "source": [
        "def degree_centrality(gcc, G):\n",
        "  # Page 7, https://computationalsocialnetworks.springeropen.com/articles/10.1186/s40649-020-00081-w\n",
        "  degrees = nx.degree_centrality(G.subgraph(gcc))\n",
        "  weighted_degrees = {}\n",
        "  for u in gcc:\n",
        "    weighted_degree = 0\n",
        "    for v in G.neighbors(u):\n",
        "      weighted_degree += G.nodes[v]['node weight']\n",
        "    weighted_degrees[u] = weighted_degree\n",
        "  return max(gcc, key=lambda v: weighted_degrees[v])\n",
        "\n",
        "heuristics.append((\"degree_centrality\", degree_centrality))\n",
        "heuristics_no_bc.append((\"degree_centrality\", degree_centrality))"
      ],
      "metadata": {
        "id": "ewxkxKWGoUD4"
      },
      "execution_count": null,
      "outputs": []
    },
    {
      "cell_type": "code",
      "source": [
        "def eigenvector_centrality_cd(gcc, G):\n",
        "  # Page 7, https://computationalsocialnetworks.springeropen.com/articles/10.1186/s40649-020-00081-w\n",
        "  # \"Eigenvector centrality is a measure where it is still open how to include the efect of node weights.\"\n",
        "  centrality_dict = nx.eigenvector_centrality_numpy(G.subgraph(gcc))\n",
        "  return max(gcc, key=lambda v: centrality_dict[v] / G.nodes[v]['node weight'])\n",
        "\n",
        "heuristics.append((\"eigenvector_centrality_cd\", eigenvector_centrality_cd))\n",
        "heuristics_no_bc.append((\"eigenvector_centrality_cd\", eigenvector_centrality_cd))\n",
        "\n",
        "def power_iteration(G, nodelist, max_iter=100):\n",
        "    A = nx.to_numpy_array(G, nodelist=nodelist, weight='node weight')\n",
        "    v = np.random.rand(A.shape[1])\n",
        "    for _ in range(max_iter):\n",
        "        v = np.dot(A, v)\n",
        "        try:\n",
        "          v = v / np.linalg.norm(v)\n",
        "        except:\n",
        "          print(_, v)\n",
        "          x = 5 / 0 \n",
        "    return v\n",
        "\n",
        "def eigenvector_centrality_weighted_adj(gcc, G):\n",
        "  gcc = list(gcc)\n",
        "  v = power_iteration(G, gcc)\n",
        "  return gcc[np.argmax(v)]\n",
        "\n",
        "heuristics.append((\"eigenvector_centrality_weighted_adj\", eigenvector_centrality_weighted_adj))\n",
        "heuristics_no_bc.append((\"eigenvector_centrality_weighted_adj\", eigenvector_centrality_weighted_adj))\n",
        "\n",
        "def eigenvector_centrality_combined(gcc, G):\n",
        "  gcc = list(gcc)\n",
        "  v = power_iteration(G, gcc)\n",
        "  # I am confused about indexing but I think this makes sense\n",
        "  cd_v = [u / G.nodes[gcc[i]]['node weight'] for (i, u) in enumerate(v)]\n",
        "  return max(gcc, key=lambda v: cd_v[gcc.index(v)])\n",
        "\n",
        "heuristics.append((\"eigenvector_centrality_combined\", eigenvector_centrality_combined))\n",
        "heuristics_no_bc.append((\"eigenvector_centrality_combined\", eigenvector_centrality_combined))"
      ],
      "metadata": {
        "id": "uEe6dz9moy0K"
      },
      "execution_count": null,
      "outputs": []
    },
    {
      "cell_type": "code",
      "source": [
        "def simplify_and_invert_laplacian(L):\n",
        "  L = np.delete(L, 0, axis=0)\n",
        "  L_tilde = np.delete(L, 0, axis=1)\n",
        "  L_inv = np.linalg.inv(L_tilde)\n",
        "  L_with_zeroes_on_top = np.vstack((np.zeros(L_inv.shape[1]), L_inv))\n",
        "  zeroes_column = np.zeros((L_with_zeroes_on_top.shape[0],1))\n",
        "  C = np.hstack((zeroes_column, L_with_zeroes_on_top))\n",
        "  return C\n",
        "\n",
        "def approx_current_flow_betweenness(gcc, G, using_cd=False, using_weighted_edges=False, using_weighted_supply=False):\n",
        "  G = G.subgraph(gcc)\n",
        "  gcc = sorted(list(gcc))\n",
        "  n = G.number_of_nodes()\n",
        "\n",
        "  vertices_ordered = {v: i for i, v in enumerate(G.nodes)}\n",
        "  centrality = {v: 0 for v in G.nodes}\n",
        "\n",
        "  C = simplify_and_invert_laplacian(nx.laplacian_matrix(G).toarray())\n",
        "\n",
        "  # k=logn pivots are used for approximation\n",
        "  for _ in range(int(np.log(n))):\n",
        "    # Source and sink, chosen uniformly at random\n",
        "    s, t = random.sample(gcc, k=2)\n",
        "\n",
        "    # Supply vector b\n",
        "    b = np.zeros(n)\n",
        "    b[vertices_ordered[s]] = 1\n",
        "    b[vertices_ordered[t]] = -1\n",
        "    if using_weighted_supply: \n",
        "      b = b * (G.nodes[s]['node weight'] + G.nodes[t]['node weight'])\n",
        "\n",
        "    # Potential difference vector p\n",
        "    p = C @ b\n",
        "\n",
        "    for v in G.nodes:\n",
        "      for e in G.edges(v):\n",
        "        u = e[0] if e[0] != v else e[1]\n",
        "        direction_of_current = 1 if vertices_ordered[v] < vertices_ordered[u] else -1\n",
        "        potential_difference = abs(p[vertices_ordered[v]] - p[vertices_ordered[u]])\n",
        "        centrality[v] += direction_of_current * (G.edges[e]['edge weight'] if using_weighted_edges else 1)\n",
        "\n",
        "\n",
        "  best_v = max(gcc, key=lambda v: centrality[v] / (G.nodes[v]['node weight'] if using_cd else 1))\n",
        "  return best_v \n",
        "\n",
        "cfbc_cd = lambda gcc, G: approx_current_flow_betweenness(gcc, G, using_cd=True)\n",
        "cfbc_wedge = lambda gcc, G: approx_current_flow_betweenness(gcc, G, using_weighted_edges=True)\n",
        "cfbc_wsup = lambda gcc, G: approx_current_flow_betweenness(gcc, G, using_weighted_supply=True)\n",
        "cfbc_combined = lambda gcc, G: approx_current_flow_betweenness(gcc, G, using_cd=True, using_weighted_edges=True, using_weighted_supply=True)"
      ],
      "metadata": {
        "id": "Iwxc570POvMg"
      },
      "execution_count": null,
      "outputs": []
    },
    {
      "cell_type": "markdown",
      "source": [
        "# Unsure centralities"
      ],
      "metadata": {
        "id": "QynRmnmXtC-Y"
      }
    },
    {
      "cell_type": "code",
      "source": [
        "# https://link.springer.com/chapter/10.1007/978-3-540-31856-9_44\n",
        "# Also called 'current flow centrality'.\n",
        "def information_centrality(gcc, G):\n",
        "  # TODO: Look into this\n",
        "  centrality_dict = nx.information_centrality(G.subgraph(gcc), weight='edge weight')\n",
        "  return max(gcc, key=lambda v: centrality_dict[v])\n",
        "\n",
        "# TODO: add?"
      ],
      "metadata": {
        "id": "cZeBdKE9qKY5"
      },
      "execution_count": null,
      "outputs": []
    },
    {
      "cell_type": "code",
      "source": [
        "# https://arxiv.org/abs/0905.4102\n",
        "def communicability_centrality(gcc, G):\n",
        "    # Related to the number of walks connecting every pair of nodes, as opposed to the number of shortest paths.\n",
        "    # TODO: Work with node weights\n",
        "    centrality_dict = nx.communicability_betweenness_centrality(G.subgraph(gcc))\n",
        "    return max(gcc, key=lambda v: centrality_dict[v])\n",
        "\n",
        "# TODO: add?"
      ],
      "metadata": {
        "id": "Oj1xr0OPwAlM"
      },
      "execution_count": null,
      "outputs": []
    },
    {
      "cell_type": "code",
      "source": [
        "# https://journals.aps.org/prl/pdf/10.1103/PhysRevLett.87.278701\n",
        "def load_centrality(gcc, G):\n",
        "    # Related to the fraction of all shortest paths that pass through a node.\n",
        "    # TODO: Figure out how this is different from betweenness centrality\n",
        "    centrality_dict = nx.load_centrality(G.subgraph(gcc), weight='edge weight')\n",
        "    return max(gcc, key=lambda v: centrality_dict[v])"
      ],
      "metadata": {
        "id": "hrS_BDDd6e4G"
      },
      "execution_count": null,
      "outputs": []
    },
    {
      "cell_type": "code",
      "source": [
        "# https://math.wvu.edu/~cqzhang/Publication-files/my-paper/INS-2012-Laplacian-W.pdf\n",
        "def laplacian_centrality(gcc, G):\n",
        "    # Related to the drop in laplacian energy (the sum of the squared eigenvalues of the Laplacian) after removing a vertex.\n",
        "    # TODO: Figure out how networkx uses weights.\n",
        "    centrality_dict = nx.laplacian_centrality(G.subgraph(gcc), weight='edge weight')\n",
        "    return max(gcc, key=lambda v: centrality_dict[v])"
      ],
      "metadata": {
        "id": "NCj149zW6iuU"
      },
      "execution_count": null,
      "outputs": []
    },
    {
      "cell_type": "code",
      "source": [
        "# this is a modified version of laplacian centrality where only the effect on the \n",
        "# second eigenvalue of removing a node is considered. ie laplacian energy is \n",
        "# redefined as (lambda_2)^2.\n",
        "def second_eval_estimate(full_G) :\n",
        "\n",
        "  L = nx.laplacian_matrix(G)\n",
        "  try :\n",
        "    v_2 = nx.fiedler_vector(G)\n",
        "  except :\n",
        "    return 0\n",
        "  v_2 = v_2 / np.linalg.norm(v_2)\n",
        "  return ((L@v_2) @ v_2)**2\n",
        "\n",
        "def modified_laplacian_centrality(gcc, full_G, CD=False) :\n",
        "  G = full_G.subgraph(gcc)\n",
        "  curr_MLE = second_eval_estimate(G) # current modified laplacian energy\n",
        "  if CD :\n",
        "    MLCs = [(node, (curr_MLE - second_eval_estimate(G.subgraph(set(G.nodes) - {node})))/G.nodes[node]['node weight']) for node in G.nodes]\n",
        "  else :\n",
        "    MLCs = [(node, curr_MLE - second_eval_estimate(G.subgraph(set(G.nodes) - {node}))) for node in G.nodes]\n",
        "  return max(MLCs, key=lambda x: x[1])[0]\n",
        "\n",
        "def modified_laplacian_centrality_CD(gcc, full_G) :\n",
        "  return modified_laplacian_centrality(gcc, full_G, CD=True)\n",
        "\n",
        "_ = alg(modified_laplacian_centrality_CD, G)\n",
        "_ = alg(approximate_betweenness_centrality_cd, G)"
      ],
      "metadata": {
        "id": "sVeAtIxyqNth",
        "colab": {
          "base_uri": "https://localhost:8080/"
        },
        "outputId": "79751274-3fb6-46b5-cb0f-30295977707e"
      },
      "execution_count": null,
      "outputs": [
        {
          "output_type": "stream",
          "name": "stdout",
          "text": [
            "Removed 48 nodes from G.\n",
            "Cost: 236\n",
            "Time elapsed: 4.793s\n",
            "Removed 36 nodes from G.\n",
            "Cost: 137\n",
            "Time elapsed: 0.061s\n"
          ]
        }
      ]
    },
    {
      "cell_type": "markdown",
      "source": [
        "# Previous tests / debugging"
      ],
      "metadata": {
        "id": "Ew7brswjs6W-"
      }
    },
    {
      "cell_type": "code",
      "source": [
        "G = nx.erdos_renyi_graph(75, 0.075)\n",
        "for n in G.nodes:\n",
        "  G.nodes[n]['node weight'] = np.random.randint(1,10)\n",
        "\n",
        "# for u, v in G.edges:\n",
        "#   G.edges[u,v]['edge weight'] = 1 /( G.nodes[u]['node weight'] + G.nodes[v]['node weight'] )"
      ],
      "metadata": {
        "id": "D9DCzHb_fiHS"
      },
      "execution_count": null,
      "outputs": []
    },
    {
      "cell_type": "code",
      "source": [
        "_ = alg(laplacian_centrality, G)"
      ],
      "metadata": {
        "colab": {
          "base_uri": "https://localhost:8080/"
        },
        "id": "-LrkNzp1zZZw",
        "outputId": "5bf865c5-2a69-4d92-e758-a39573ee2820"
      },
      "execution_count": null,
      "outputs": [
        {
          "output_type": "stream",
          "name": "stdout",
          "text": [
            "Removed 24 nodes from G.\n",
            "Cost: 114\n",
            "Time elapsed: 0.584s\n"
          ]
        }
      ]
    },
    {
      "cell_type": "code",
      "source": [
        "_ = alg(modified_laplacian_centrality_CD, G)"
      ],
      "metadata": {
        "colab": {
          "base_uri": "https://localhost:8080/"
        },
        "id": "OKojaEnouEQo",
        "outputId": "f1da882d-7492-4d73-ba53-75a54ef97ebc"
      },
      "execution_count": null,
      "outputs": [
        {
          "output_type": "stream",
          "name": "stdout",
          "text": [
            "Removed 49 nodes from G.\n",
            "Cost: 171\n",
            "Time elapsed: 93.271s\n"
          ]
        }
      ]
    },
    {
      "cell_type": "code",
      "source": [
        "_ = alg(remove_lightest_node, G)"
      ],
      "metadata": {
        "colab": {
          "base_uri": "https://localhost:8080/"
        },
        "id": "4BYMwCpekWzI",
        "outputId": "16149bd0-099b-46cf-dc83-61cd075cb774"
      },
      "execution_count": null,
      "outputs": [
        {
          "output_type": "stream",
          "name": "stdout",
          "text": [
            "Removed 48 nodes from G.\n",
            "Cost: 159\n",
            "Time elapsed: 0.006s\n"
          ]
        }
      ]
    },
    {
      "cell_type": "code",
      "source": [
        "_ = alg(betweenness_centrality_wsp, G)"
      ],
      "metadata": {
        "id": "z3NLcHtskW6N"
      },
      "execution_count": null,
      "outputs": []
    },
    {
      "cell_type": "code",
      "source": [
        "_ = alg(betweenness_centrality_endpoint_weights, G)"
      ],
      "metadata": {
        "id": "Z27Zc2CmzR9u"
      },
      "execution_count": null,
      "outputs": []
    },
    {
      "cell_type": "code",
      "source": [
        "_ = alg(approximate_betweenness_centrality_wsp, G)"
      ],
      "metadata": {
        "id": "j_CRAuHSnoBZ"
      },
      "execution_count": null,
      "outputs": []
    },
    {
      "cell_type": "code",
      "source": [
        "_ = alg(approximate_betweenness_centrality_cd, G)"
      ],
      "metadata": {
        "id": "zY4IR9HtFEyR",
        "colab": {
          "base_uri": "https://localhost:8080/"
        },
        "outputId": "11afc4bf-a129-4a14-e74f-2d5eb0d9a377"
      },
      "execution_count": null,
      "outputs": [
        {
          "output_type": "stream",
          "name": "stdout",
          "text": [
            "Removed 31 nodes from G.\n",
            "Cost: 118\n",
            "Time elapsed: 0.041s\n"
          ]
        }
      ]
    },
    {
      "cell_type": "code",
      "source": [
        "_ = alg(degree_centrality, G)"
      ],
      "metadata": {
        "id": "B1EgXEmWq8aW"
      },
      "execution_count": null,
      "outputs": []
    },
    {
      "cell_type": "code",
      "source": [
        "_ = alg(eigenvector_centrality_cd, G)"
      ],
      "metadata": {
        "id": "tmmqrqwwrHSx"
      },
      "execution_count": null,
      "outputs": []
    },
    {
      "cell_type": "code",
      "source": [
        "_ = alg(eigenvector_centrality_weighted_adj, G)"
      ],
      "metadata": {
        "id": "ulWfvA47cVWt"
      },
      "execution_count": null,
      "outputs": []
    },
    {
      "cell_type": "code",
      "source": [
        "_ = alg(eigenvector_centrality_combined, G)"
      ],
      "metadata": {
        "id": "sJxnuSqyhjOm"
      },
      "execution_count": null,
      "outputs": []
    },
    {
      "cell_type": "code",
      "source": [
        "_ = alg(information_centrality, G)"
      ],
      "metadata": {
        "id": "fxmra700rLLY"
      },
      "execution_count": null,
      "outputs": []
    },
    {
      "cell_type": "code",
      "source": [
        "_ = alg(communicability_centrality, G)"
      ],
      "metadata": {
        "id": "_9HfeuzTsFvy"
      },
      "execution_count": null,
      "outputs": []
    },
    {
      "cell_type": "code",
      "source": [
        "_ = alg(load_centrality, G)"
      ],
      "metadata": {
        "id": "Z-vnqTsd7mLU"
      },
      "execution_count": null,
      "outputs": []
    },
    {
      "cell_type": "markdown",
      "source": [
        "# More centralities"
      ],
      "metadata": {
        "id": "cbULcPhds_tX"
      }
    },
    {
      "cell_type": "code",
      "source": [
        "G = nx.erdos_renyi_graph(100, 0.05)\n",
        "for n in G.nodes:\n",
        "  G.nodes[n]['node weight'] = 1 - random.uniform(0, 1)\n",
        "\n",
        "for u, v in G.edges:\n",
        "  G.edges[u,v]['edge weight'] = G.nodes[u]['node weight'] + G.nodes[v]['node weight'] \n",
        "\n",
        "def betweenness_centrality_wsp(gcc, G):\n",
        "  # https://www.hindawi.com/journals/complexity/2021/1677445/\n",
        "  # We find betweenness centrality using weighted shortest paths.\n",
        "  # The higher the weight of a shortest path, the heavier the nodes are on that path. Thus, disconnecting that path is more better.\n",
        "  # (Is this true? TODO: Figure out what networkx is doing here: https://networkx.org/documentation/stable/reference/algorithms/generated/networkx.algorithms.centrality.betweenness_centrality.html)\n",
        "  centrality_dict = nx.betweenness_centrality(G.subgraph(gcc), weight ='edge weight')\n",
        "  return max(gcc, key=lambda v: centrality_dict[v])\n",
        "\n",
        "# _ = alg(betweenness_centrality_wsp, G, c=0.1)\n",
        "# _ = alg(betweenness_centrality_per_unit_cent, G, c=0.1)"
      ],
      "metadata": {
        "id": "2qWfIvmf7qMD"
      },
      "execution_count": null,
      "outputs": []
    },
    {
      "cell_type": "markdown",
      "source": [
        "# GND"
      ],
      "metadata": {
        "id": "z7gSk-KtUprH"
      }
    },
    {
      "cell_type": "code",
      "source": [
        "# Generate a sea-urchin-sistine-chapel (SUSC) graph\n",
        "def susc_generator(num_spikes, path_length, p=0):\n",
        "  \n",
        "  assert p <= 1\n",
        "  assert p >= 0\n",
        "\n",
        "  G = nx.Graph()\n",
        "  k = 0 # constant to differentiate the two urchins\n",
        "  \n",
        "  # Urchin 1\n",
        "  urchin_1 = 0\n",
        "  G.add_node(urchin_1)\n",
        "  k += 1\n",
        "\n",
        "  for i in range(num_spikes):\n",
        "    G.add_edge(k, urchin_1) # Add spike to urchin\n",
        "    k += 1\n",
        "\n",
        "  # Probabilistically add edges between spikes\n",
        "\n",
        "  if p > 0:\n",
        "    for i in range(num_spikes):\n",
        "      for j in range(num_spikes):\n",
        "        if i == j:\n",
        "          continue\n",
        "        spike_1 = i + 1 + urchin_1\n",
        "        spike_2 = j + 1 + urchin_1\n",
        "        if random.uniform(0, 1) <= p:\n",
        "          G.add_edge(spike_1, spike_2)\n",
        "\n",
        "  urchin_2 = k\n",
        "  \n",
        "  G.add_node(urchin_2)\n",
        "\n",
        "  k += 1\n",
        "\n",
        "  # Urchin 2\n",
        "\n",
        "\n",
        "  for i in range(num_spikes):\n",
        "    G.add_edge(k, urchin_2) # Add spike to urchin\n",
        "    k += 1\n",
        "\n",
        "  if p > 0:\n",
        "    for i in range(num_spikes):\n",
        "      for j in range(num_spikes):\n",
        "        if i == j:\n",
        "          continue\n",
        "        spike_1 = i + urchin_2 + 1\n",
        "        spike_2 = j + urchin_2 + 1\n",
        "        if random.uniform(0, 1) <= p:\n",
        "          G.add_edge(spike_1, spike_2)\n",
        "\n",
        "\n",
        "  # Path\n",
        "\n",
        "  if path_length == 0:\n",
        "    G.add_edge(urchin_1, urchin_2)\n",
        "  else:\n",
        "    count = G.number_of_nodes() + 1\n",
        "    start = count\n",
        "\n",
        "    for i in range(path_length - 1):\n",
        "      G.add_edge(count, count + 1)\n",
        "      count += 1\n",
        "    \n",
        "    end = count\n",
        "\n",
        "    G.add_edge(start, urchin_1)\n",
        "    G.add_edge(end, urchin_2)\n",
        "\n",
        "  return G"
      ],
      "metadata": {
        "id": "UlD1vFfsr9Cd"
      },
      "execution_count": null,
      "outputs": []
    },
    {
      "cell_type": "code",
      "source": [
        "def assign_weights_randomly(G):\n",
        "  H = G.copy()\n",
        "  for n in H.nodes:\n",
        "    H.nodes[n]['node weight'] = 100 * (1 - random.uniform(0, 1))\n",
        "  for e in H.edges:\n",
        "    u, v = e\n",
        "    H.edges[e]['edge weight'] = H.nodes[u]['node weight'] + H.nodes[v]['node weight']\n",
        "  return H"
      ],
      "metadata": {
        "id": "Qtv3rA-ksBsI"
      },
      "execution_count": null,
      "outputs": []
    },
    {
      "cell_type": "code",
      "source": [
        "### Generate graphs ###\n",
        "\n",
        "## Small  ~ 100 nodes\n",
        "## Medium ~ 500 nodes\n",
        "## Large  ~ 1000 nodes\n",
        "# Note that the numbers are not exactly that\n",
        "\n",
        "# 1. BA graphs\n",
        "\n",
        "BA_s = nx.barabasi_albert_graph(100, 10)\n",
        "BA_s_weighted = assign_weights_randomly(BA_s)\n",
        "\n",
        "BA_m = nx.barabasi_albert_graph(500, 50)\n",
        "BA_m_weighted = assign_weights_randomly(BA_m)\n",
        "\n",
        "BA_l = nx.barabasi_albert_graph(1000, 100)\n",
        "BA_l_weighted = assign_weights_randomly(BA_l)\n",
        "\n",
        "# 2. Regular graphs\n",
        "\n",
        "Reg_s = nx.random_regular_graph(10, 100)\n",
        "Reg_s_weighted = assign_weights_randomly(Reg_s)\n",
        "\n",
        "Reg_m = nx.random_regular_graph(50, 500)\n",
        "Reg_m_weighted = assign_weights_randomly(Reg_m)\n",
        "\n",
        "Reg_l = nx.random_regular_graph(100, 1000)\n",
        "Reg_l_weighted = assign_weights_randomly(Reg_l)\n",
        "\n",
        "# 3. ER graphs\n",
        "\n",
        "ER_s = nx.erdos_renyi_graph(100, 0.1)\n",
        "ER_s_weighted = assign_weights_randomly(ER_s)\n",
        "\n",
        "ER_m = nx.erdos_renyi_graph(500, 0.1)\n",
        "ER_m_weighted = assign_weights_randomly(ER_m)\n",
        "\n",
        "ER_l = nx.erdos_renyi_graph(1000, 0.1)\n",
        "ER_l_weighted = assign_weights_randomly(ER_l)\n",
        "\n",
        "# 4. Lobster\n",
        "\n",
        "Lobster_s = nx.random_lobster(100, 0.1, 0.1)\n",
        "Lobster_s_weighted = assign_weights_randomly(Lobster_s)\n",
        "\n",
        "Lobster_m = nx.random_lobster(500, 0.1, 0.1)\n",
        "Lobster_m_weighted = assign_weights_randomly(Lobster_m)\n",
        "\n",
        "Lobster_l = nx.random_lobster(1000, 0.1, 0.1)\n",
        "Lobster_l_weighted = assign_weights_randomly(Lobster_l)\n",
        "\n",
        "# 5. Watts-Strogatz\n",
        "\n",
        "WS_s = nx.watts_strogatz_graph(100, 5, 0.1)\n",
        "WS_s_weighted = assign_weights_randomly(WS_s)\n",
        "\n",
        "WS_m = nx.watts_strogatz_graph(500, 5, 0.1)\n",
        "WS_m_weighted = assign_weights_randomly(WS_s)\n",
        "\n",
        "WS_l = nx.watts_strogatz_graph(1000, 5, 0.1)\n",
        "WS_l_weighted = assign_weights_randomly(WS_l)\n",
        "\n",
        "# 6. SUSC\n",
        "\n",
        "SUSC_s = susc_generator(100, 3, 0.1)\n",
        "SUSC_s_weighted = assign_weights_randomly(SUSC_s)\n",
        "\n",
        "SUSC_m = susc_generator(500, 3, 0.1)\n",
        "SUSC_m_weighted = assign_weights_randomly(SUSC_m)\n",
        "\n",
        "SUSC_l = susc_generator(1000, 3, 0.1)\n",
        "SUSC_l_weighted = assign_weights_randomly(SUSC_l)\n",
        "\n",
        "# 7. Cycle\n",
        "C_s = nx.cycle_graph(100)\n",
        "C_s_weighted = assign_weights_randomly(C_s)\n",
        "\n",
        "C_m = nx.cycle_graph(500)\n",
        "C_m_weighted = assign_weights_randomly(C_m)\n",
        "\n",
        "C_l = nx.cycle_graph(1000)\n",
        "C_l_weighted = assign_weights_randomly(C_l)\n",
        "\n",
        "# 8. Grid\n",
        "G_s = nx.grid_2d_graph(10, 10)\n",
        "G_s_weighted = assign_weights_randomly(G_s)\n",
        "\n",
        "G_m = nx.grid_2d_graph(20, 20)\n",
        "G_m_weighted = assign_weights_randomly(G_m)\n",
        "\n",
        "G_l = nx.grid_2d_graph(30, 30)\n",
        "G_l_weighted = assign_weights_randomly(G_l)\n",
        "\n",
        "# 9. Ladder\n",
        "L_s = nx.ladder_graph(50)\n",
        "L_s_weighted = assign_weights_randomly(L_s)\n",
        "\n",
        "L_m = nx.ladder_graph(250)\n",
        "L_m_weighted = assign_weights_randomly(L_m)\n",
        "\n",
        "L_l = nx.ladder_graph(500)\n",
        "L_l_weighted = assign_weights_randomly(L_l)\n",
        "\n",
        "# 10. Hypergraph\n",
        "H_s = nx.hypercube_graph(7)\n",
        "H_s_weighted = assign_weights_randomly(H_s)\n",
        "\n",
        "H_m = nx.hypercube_graph(9)\n",
        "H_m_weighted = assign_weights_randomly(H_m)\n",
        "\n",
        "H_l = nx.hypercube_graph(10)\n",
        "H_l_weighted = assign_weights_randomly(H_l)\n",
        "\n",
        "small_graphs = [\n",
        "    (\"Small BA\", BA_s_weighted), \n",
        "    (\"Small Reg\", Reg_s_weighted), \n",
        "    (\"Small ER\", ER_s_weighted), \n",
        "    (\"Small Lobster\", Lobster_s_weighted), \n",
        "    (\"Small WS\", WS_s_weighted), \n",
        "    (\"Small SUSC\", SUSC_s_weighted), \n",
        "    (\"Small Cycle\", C_s_weighted), \n",
        "    (\"Small Grid\", G_s_weighted), \n",
        "    (\"Small Ladder\", L_s_weighted), \n",
        "    (\"Small Hyper\", H_s_weighted)\n",
        "]\n",
        "\n",
        "medium_graphs = [\n",
        "    (\"Medium BA\", BA_m_weighted), \n",
        "    (\"Medium Reg\", Reg_m_weighted), \n",
        "    (\"Medium ER\", ER_m_weighted), \n",
        "    (\"Medium Lobster\", Lobster_m_weighted), \n",
        "    (\"Medium WS\", WS_m_weighted), \n",
        "    (\"Medium SUSC\", SUSC_m_weighted), \n",
        "    (\"Medium Cycle\", C_m_weighted), \n",
        "    (\"Medium Grid\", G_m_weighted), \n",
        "    (\"Medium Ladder\", L_m_weighted), \n",
        "    (\"Medium Hyper\", H_m_weighted)\n",
        "]\n",
        "\n",
        "large_graphs = [\n",
        "    (\"Large BA\", BA_l_weighted), \n",
        "    (\"Large Reg\", Reg_l_weighted), \n",
        "    (\"Large ER\", ER_l_weighted), \n",
        "    (\"Large Lobster\", Lobster_l_weighted), \n",
        "    (\"Large WS\", WS_l_weighted), \n",
        "    (\"Large SUSC\", SUSC_l_weighted), \n",
        "    (\"Large Cycle\", C_l_weighted), \n",
        "    (\"Large Grid\", G_l_weighted), \n",
        "    (\"Large Ladder\", L_l_weighted), \n",
        "    (\"Large Hyper\", H_l_weighted)\n",
        "]\n",
        "\n",
        "all_graphs = small_graphs + medium_graphs + large_graphs"
      ],
      "metadata": {
        "id": "3Tsv23vmp2N0"
      },
      "execution_count": null,
      "outputs": []
    },
    {
      "cell_type": "code",
      "source": [
        "def assign_weights_randomly(G):\n",
        "  H = G.copy()\n",
        "  for n in H.nodes:\n",
        "    H.nodes[n]['node weight'] = 100 * (1 - random.uniform(0, 1))\n",
        "  for e in H.edges:\n",
        "    H.edges[e]['edge weight'] = 100 * (1 - random.uniform(0, 1))\n",
        "  return H\n",
        "\n",
        "def test_heuristics(G, heuristics, timeout=300, name=\"No name provided\", c=0.2, gnd=False):\n",
        "  results = []\n",
        "  print(\"Graph:\", name)\n",
        "  print(\"n:\", G.number_of_nodes(), \"m:\", G.number_of_edges())\n",
        "  print(\"\")\n",
        "  for heuristic in heuristics:\n",
        "    name = heuristic[0]\n",
        "    h = heuristic[1]\n",
        "    print(\"Testing\", name)\n",
        "    results.append((name, alg(h, G, c, timeout=timeout)))\n",
        "    print(\"\")\n",
        "\n",
        "  return results\n",
        "\n",
        "def test_gnd(G, timeout=300, name=\"No name provided\", c=3):\n",
        "  results = []\n",
        "  print(\"Graph:\", name)\n",
        "  print(\"n:\", G.number_of_nodes(), \"m:\", G.number_of_edges())\n",
        "  print(\"\")\n",
        "  results.append(gnd(G, c, False))\n",
        "  print(\"\")\n",
        "  \n",
        "  return results\n",
        "\n",
        "def test_graphs(graphs, g_type, heuristics, timeout=300, c=3, gnd=False):\n",
        "  graph_results = []\n",
        "  print(\"--- Running tests for\", g_type, \"graphs ---\")\n",
        "  print(\"\")\n",
        "  \n",
        "  for graph in graphs:\n",
        "    name = graph[0]\n",
        "    G = graph[1]\n",
        "    if gnd:\n",
        "      graph_results.append(test_gnd(G, timeout, name, c))\n",
        "    else: \n",
        "      graph_results.append(test_heuristics(G, heuristics, timeout, name, c))\n",
        "    print(\"~~~~~~~~~~~~~~~~~~~~~~~~~~~\")\n",
        "    print(\"\")\n",
        "  \n",
        "  print(\"\")\n",
        "  print(\"--- All tests for\", g_type, \"graphs size have now finished ---\")\n",
        "  return graph_results"
      ],
      "metadata": {
        "id": "u4ArBDfbp7y4"
      },
      "execution_count": null,
      "outputs": []
    },
    {
      "cell_type": "code",
      "source": [
        "### Helper functions ###\n",
        "\n",
        "# def weighted_vertex_cover(G_star, G, A, A_star, n):\n",
        "#   n = G.number_of_nodes\n",
        "#   n_star = G_star.number_of_nodes\n",
        "#   assert n_star == n\n",
        "#   S = []\n",
        "#   d = [sum(A_star[i]) for i in range(n_star)]  \n",
        "#   w = [sum(A[i]) for i in range(n)]\n",
        "#   v = [w[i] / d[i] for i in range(n)]\n",
        "#   E_star = G_star.edges\n",
        "#   # Loop goes on until there are no more edges in E*\n",
        "#   while E_star:\n",
        "#     v_i = v.index(min(v))\n",
        "#     S.append(v_i)\n",
        "#     G_star.remove_node(v_i)\n",
        "#     G.remove_node(v_i)\n",
        "#   return S\n",
        "\n",
        "\n",
        "\n",
        "# def get_second_eigenvector(L) : # deprecated, used fiedler_vector function\n",
        "#   eigenvalue, eigenvectors = np.linalg.eig(L)\n",
        "#   sorted_evals = sorted(enumerate(eigenvalue), key=lambda x: x[1])\n",
        "#   print(f\"smallest eval: {sorted_evals[0][1]}\\n smallest evec: {eigenvectors[sorted_evals[0][0]][:10]}...\")\n",
        "#   v_2 = eigenvectors[sorted_evals[1][0]] # (second-smallest eigenvector)\n",
        "#   return v_2\n",
        "\n",
        "def get_second_eigenvector_approx(L_tilde, iters) :\n",
        "  # draw a v unif random from sphere by drawing each point\n",
        "  #   as a gaussian and rescaling (as suggested by GND paper)\n",
        "  v = np.random.normal(0,1, size=L_tilde.shape[0])\n",
        "  v = v / np.linalg.norm(v, ord=2) # normalize to unit sphere\n",
        "  v_1 = np.ones(L_tilde.shape[0])\n",
        "  v = v - (v @ v_1)/(v_1 @ v_1) * v_1 # make v orthogonal to v_1\n",
        "  # now do iterative approximation for v_2 :\n",
        "  for _ in range(iters) :\n",
        "    L_v = L_tilde @ v\n",
        "    v = L_v / np.linalg.norm(L_v)\n",
        "  return v\n",
        "\n",
        "\n",
        "def get_max_degree(G):\n",
        "  # sorts by degree in descending order, returns first element\n",
        "  return sorted(G.degree, key=lambda x: x[1], reverse=True)[0]\n",
        "\n",
        "def draw_graph_with_nodes(G, nodes,node_size=100) :\n",
        "  for node in G.nodes:\n",
        "    if node in nodes:\n",
        "      G.nodes[node]['color'] = 'r'\n",
        "    else :\n",
        "      G.nodes[node]['color'] = 'b'\n",
        "  nx.draw(G, node_color=[G.nodes[v]['color'] for v in G.nodes],node_size=node_size)\n",
        "\n",
        "def draw_graph_ccs(G,node_size=100) :\n",
        "  ccs = nx.connected_components(G)\n",
        "  poss_colors = ['b', 'r', 'g', 'm', 'c', 'y', 'k']\n",
        "  pc_ind = 0\n",
        "  for cc in ccs :\n",
        "    rand_color = poss_colors[pc_ind]\n",
        "    for node in cc :\n",
        "      G.nodes[node]['color'] = rand_color\n",
        "    pc_ind += 1\n",
        "    pc_ind %= len(poss_colors)\n",
        "  nx.draw(G, node_color=[G.nodes[v]['color'] for v in G.nodes],node_size=node_size)\n",
        "\n",
        "  # node_weights = [gcc.nodes[v]['node weight'] for v in gcc.nodes]"
      ],
      "metadata": {
        "id": "klbMPDDuUmrY"
      },
      "execution_count": null,
      "outputs": []
    },
    {
      "cell_type": "code",
      "source": [
        "def nx_wvc_source(G, weight=None) :\n",
        "  cost = dict(G.nodes(data=weight, default=1))\n",
        "  # While there are uncovered edges, choose an uncovered and update\n",
        "  # the cost of the remaining edges.\n",
        "  cover = set()\n",
        "  for u, v in G.edges():\n",
        "    if u in cover or v in cover:\n",
        "      continue\n",
        "    if cost[u] <= cost[v]:\n",
        "      cover.add(u)\n",
        "      cost[v] -= cost[u]\n",
        "    else:\n",
        "      cover.add(v)\n",
        "      cost[u] -= cost[v]\n",
        "  return cover"
      ],
      "metadata": {
        "id": "XqB6uz8okxLp"
      },
      "execution_count": null,
      "outputs": []
    },
    {
      "cell_type": "code",
      "source": [
        "# GND algorithm\n",
        "\n",
        "def gnd(G, c, verbose=False):\n",
        "  G_original = G.copy()\n",
        "  G = G.copy()\n",
        "  removed_nodes = set()\n",
        "  d_max = get_max_degree(G)[1]\n",
        "\n",
        "  robustness = 0\n",
        "\n",
        "  ccs = nx.connected_components(G)  \n",
        "  gcc_node_set = list(max(ccs, key=len))\n",
        "  gcc_size = len(gcc_node_set)\n",
        "  gcc = G.subgraph(gcc_node_set).copy()\n",
        "  # A_gcc = nx.adjacency_matrix(gcc)\n",
        "  # node_weights = [gcc.nodes[v]['node weight'] for v in gcc.nodes]\n",
        "  # W_gcc = np.diag(node_weights)\n",
        "  if verbose :\n",
        "    iter_tracker = 1\n",
        "\n",
        "  while gcc_size > c:\n",
        "    if verbose: \n",
        "      print(f\"--- Starting iter {iter_tracker}\")\n",
        "    # Setup\n",
        "    # n = gcc.number_of_nodes()\n",
        "    # B = A_gcc @ W_gcc + W_gcc @ A_gcc - A_gcc\n",
        "    # D_B = np.diag([sum(B[i]) for i in range(n)])\n",
        "    # L_w = D_B - B\n",
        "    # d_max = get_max_degree(gcc)[1]\n",
        "    # L_tilde = 6 * d_max**2 * np.eye(n) - L_w\n",
        "\n",
        "    v_2_fiedler = nx.fiedler_vector(gcc, weight='edge weight')\n",
        "    v_2_rounded = np.sign(v_2_fiedler)\n",
        "    nodes_in_M = [gcc_node_set[i] for i in range(len(v_2_rounded)) if v_2_rounded[i] >= 0]\n",
        "\n",
        "    # plt.title(f\"G at end of iteration: {iter_tracker}\")\n",
        "    # draw_graph_with_nodes(G, nodes_in_M)\n",
        "    # plt.figure()\n",
        "\n",
        "    edges_across_cut = []\n",
        "    for u, v in gcc.edges:\n",
        "      if (u in nodes_in_M) != (v in nodes_in_M):\n",
        "        edges_across_cut.append((u, v))\n",
        "\n",
        "    #assert len(edges_across_cut) > 0\n",
        "\n",
        "    # compute optimal cut\n",
        "    G_star = gcc.edge_subgraph(edges_across_cut).copy()\n",
        "    S = nx_wvc_source(G_star, weight='node weight')\n",
        "    removed_nodes.update(S)\n",
        "\n",
        "    robustness += (gcc_size - len(S)) * sum(G.nodes[v]['node weight'] for v in S)\n",
        "\n",
        "    # Updates\n",
        "    G.remove_nodes_from(list(S))\n",
        "    ccs = nx.connected_components(G) \n",
        "    gcc_node_set = list(max(ccs, key=len))\n",
        "    gcc_size = len(gcc_node_set)\n",
        "    gcc = G.subgraph(gcc_node_set).copy()\n",
        "    # A_gcc = nx.adjacency_matrix(gcc)\n",
        "    # node_weights = [gcc.nodes[v]['node weight'] for v in gcc.nodes]\n",
        "    # W_gcc = np.diag(node_weights)\n",
        "    \n",
        "    if verbose:\n",
        "      # plt.title(f\"G at end of iteration: {iter_tracker}\")\n",
        "      # draw_graph_with_nodes(G_original, nodes_in_M)\n",
        "      # plt.figure()\n",
        "      print(f\"--- Ending iter {iter_tracker}\")\n",
        "      # print(nodes_in_M)\n",
        "      print(edges_across_cut)\n",
        "      print(len(S))\n",
        "      # print(gcc_size)\n",
        "      iter_tracker += 1\n",
        "\n",
        "  # # reinsertion greedily:\n",
        "  # while gcc_size <= c :\n",
        "  print(f\"Robustness: {robustness / G_original.number_of_nodes()}\")\n",
        "\n",
        "  return removed_nodes"
      ],
      "metadata": {
        "id": "00OZfEUP8S91"
      },
      "execution_count": null,
      "outputs": []
    },
    {
      "cell_type": "code",
      "source": [
        "### Run GND on all graphs ###\n",
        "\n",
        "results_gnd = test_graphs(all_graphs, \"all\", [gnd], timeout=300, c=3, gnd=True)"
      ],
      "metadata": {
        "colab": {
          "base_uri": "https://localhost:8080/"
        },
        "id": "qusLS8CXqBEu",
        "outputId": "ed9ed02a-5466-4a0b-b7aa-1e6735e84586"
      },
      "execution_count": null,
      "outputs": [
        {
          "metadata": {
            "tags": null
          },
          "name": "stdout",
          "output_type": "stream",
          "text": [
            "--- Running tests for all graphs ---\n",
            "\n",
            "Graph: Small BA\n",
            "n: 100 m: 900\n",
            "\n",
            "Robustness: 1737.2048525908708\n",
            "\n",
            "~~~~~~~~~~~~~~~~~~~~~~~~~~~\n",
            "\n",
            "Graph: Small Reg\n",
            "n: 100 m: 500\n",
            "\n",
            "Robustness: 1045.4769372846881\n",
            "\n",
            "~~~~~~~~~~~~~~~~~~~~~~~~~~~\n",
            "\n",
            "Graph: Small ER\n",
            "n: 100 m: 516\n",
            "\n",
            "Robustness: 1368.7850231137531\n",
            "\n",
            "~~~~~~~~~~~~~~~~~~~~~~~~~~~\n",
            "\n",
            "Graph: Small Lobster\n",
            "n: 12 m: 11\n",
            "\n",
            "Robustness: 48.65376786690769\n",
            "\n",
            "~~~~~~~~~~~~~~~~~~~~~~~~~~~\n",
            "\n",
            "Graph: Small WS\n",
            "n: 100 m: 200\n",
            "\n",
            "Robustness: 528.3087135437399\n",
            "\n",
            "~~~~~~~~~~~~~~~~~~~~~~~~~~~\n",
            "\n",
            "Graph: Small SUSC\n",
            "n: 205 m: 2089\n",
            "\n",
            "Robustness: 1614.6131290622277\n",
            "\n",
            "~~~~~~~~~~~~~~~~~~~~~~~~~~~\n",
            "\n",
            "Graph: Small Cycle\n",
            "n: 100 m: 100\n",
            "\n",
            "Robustness: 178.62406630626654\n",
            "\n",
            "~~~~~~~~~~~~~~~~~~~~~~~~~~~\n",
            "\n",
            "Graph: Small Grid\n",
            "n: 100 m: 180\n",
            "\n",
            "Robustness: 774.6592936476222\n",
            "\n",
            "~~~~~~~~~~~~~~~~~~~~~~~~~~~\n",
            "\n",
            "Graph: Small Ladder\n",
            "n: 100 m: 148\n",
            "\n",
            "Robustness: 313.31482000331357\n",
            "\n",
            "~~~~~~~~~~~~~~~~~~~~~~~~~~~\n",
            "\n",
            "Graph: Small Hyper\n",
            "n: 128 m: 448\n",
            "\n",
            "Robustness: 1303.4981124537112\n",
            "\n",
            "~~~~~~~~~~~~~~~~~~~~~~~~~~~\n",
            "\n",
            "Graph: Medium BA\n",
            "n: 500 m: 22500\n",
            "\n",
            "Robustness: 10340.00892755648\n",
            "\n",
            "~~~~~~~~~~~~~~~~~~~~~~~~~~~\n",
            "\n",
            "Graph: Medium Reg\n",
            "n: 500 m: 12500\n",
            "\n",
            "Robustness: 10071.697151387736\n",
            "\n",
            "~~~~~~~~~~~~~~~~~~~~~~~~~~~\n",
            "\n",
            "Graph: Medium ER\n",
            "n: 500 m: 12371\n",
            "\n",
            "Robustness: 9950.524330100432\n",
            "\n",
            "~~~~~~~~~~~~~~~~~~~~~~~~~~~\n",
            "\n",
            "Graph: Medium Lobster\n",
            "n: 323 m: 322\n",
            "\n",
            "Robustness: 191.26950221924076\n",
            "\n",
            "~~~~~~~~~~~~~~~~~~~~~~~~~~~\n",
            "\n",
            "Graph: Medium WS\n",
            "n: 100 m: 200\n",
            "\n",
            "Robustness: 435.5399319341367\n",
            "\n",
            "~~~~~~~~~~~~~~~~~~~~~~~~~~~\n",
            "\n",
            "Graph: Medium SUSC\n",
            "n: 1005 m: 48108\n",
            "\n",
            "Robustness: 9903.826481691769\n",
            "\n",
            "~~~~~~~~~~~~~~~~~~~~~~~~~~~\n",
            "\n",
            "Graph: Medium Cycle\n",
            "n: 500 m: 500\n",
            "\n",
            "Robustness: 190.25208378476924\n",
            "\n",
            "~~~~~~~~~~~~~~~~~~~~~~~~~~~\n",
            "\n",
            "Graph: Medium Grid\n",
            "n: 400 m: 760\n",
            "\n",
            "Robustness: 3932.8514345967615\n",
            "\n",
            "~~~~~~~~~~~~~~~~~~~~~~~~~~~\n",
            "\n",
            "Graph: Medium Ladder\n",
            "n: 500 m: 748\n",
            "\n",
            "Robustness: 555.8215579258103\n",
            "\n",
            "~~~~~~~~~~~~~~~~~~~~~~~~~~~\n",
            "\n",
            "Graph: Medium Hyper\n",
            "n: 512 m: 2304\n",
            "\n",
            "Robustness: 4105.307645402985\n",
            "\n",
            "~~~~~~~~~~~~~~~~~~~~~~~~~~~\n",
            "\n",
            "Graph: Large BA\n",
            "n: 1000 m: 90000\n",
            "\n",
            "Robustness: 14964.206494638782\n",
            "\n",
            "~~~~~~~~~~~~~~~~~~~~~~~~~~~\n",
            "\n",
            "Graph: Large Reg\n",
            "n: 1000 m: 50000\n",
            "\n",
            "Robustness: 22594.068528321728\n",
            "\n",
            "~~~~~~~~~~~~~~~~~~~~~~~~~~~\n",
            "\n",
            "Graph: Large ER\n",
            "n: 1000 m: 50235\n",
            "\n",
            "Robustness: 21765.09155020086\n",
            "\n",
            "~~~~~~~~~~~~~~~~~~~~~~~~~~~\n",
            "\n",
            "Graph: Large Lobster\n",
            "n: 1351 m: 1350\n",
            "\n",
            "Robustness: 425.0754373550426\n",
            "\n",
            "~~~~~~~~~~~~~~~~~~~~~~~~~~~\n",
            "\n",
            "Graph: Large WS\n",
            "n: 1000 m: 2000\n",
            "\n",
            "Robustness: 4143.326164621969\n",
            "\n",
            "~~~~~~~~~~~~~~~~~~~~~~~~~~~\n",
            "\n",
            "Graph: Large SUSC\n",
            "n: 2005 m: 192306\n",
            "\n",
            "Robustness: 19822.438671094435\n",
            "\n",
            "~~~~~~~~~~~~~~~~~~~~~~~~~~~\n",
            "\n",
            "Graph: Large Cycle\n",
            "n: 1000 m: 1000\n",
            "\n",
            "Robustness: 228.94617741600683\n",
            "\n",
            "~~~~~~~~~~~~~~~~~~~~~~~~~~~\n",
            "\n",
            "Graph: Large Grid\n",
            "n: 900 m: 1740\n",
            "\n",
            "Robustness: 8211.548285639727\n",
            "\n",
            "~~~~~~~~~~~~~~~~~~~~~~~~~~~\n",
            "\n",
            "Graph: Large Ladder\n",
            "n: 1000 m: 1498\n",
            "\n",
            "Robustness: 2150.7226676477007\n",
            "\n",
            "~~~~~~~~~~~~~~~~~~~~~~~~~~~\n",
            "\n",
            "Graph: Large Hyper\n",
            "n: 1024 m: 5120\n",
            "\n"
          ]
        }
      ]
    },
    {
      "cell_type": "code",
      "source": [
        "RG = nx.erdos_renyi_graph(100, 0.1)\n",
        "# G = susc_generator(20, 2, p=0)\n",
        "# G = nx.random_lobster(200, 0.15, 0.15)\n",
        "for n in G.nodes:\n",
        "  G.nodes[n]['node weight'] = 100 * (1 - random.randrange(0, 1))\n",
        "\n",
        "for e in G.edges:\n",
        "  u, v = e\n",
        "  G.edges[e]['edge weight'] = G.nodes[u]['node weight'] + G.nodes[v]['node weight']"
      ],
      "metadata": {
        "id": "pv5H2wUfVKeO"
      },
      "execution_count": null,
      "outputs": []
    },
    {
      "cell_type": "code",
      "source": [
        "_ = alg(eigenvector_centrality_cd, G, c=1/100)"
      ],
      "metadata": {
        "colab": {
          "base_uri": "https://localhost:8080/",
          "height": 311
        },
        "id": "BM3ss7mVQsoa",
        "outputId": "b94d9ab3-4eed-4051-d3ce-708515fa84b0"
      },
      "execution_count": null,
      "outputs": [
        {
          "output_type": "error",
          "ename": "TypeError",
          "evalue": "ignored",
          "traceback": [
            "\u001b[0;31m---------------------------------------------------------------------------\u001b[0m",
            "\u001b[0;31mTypeError\u001b[0m                                 Traceback (most recent call last)",
            "\u001b[0;32m<ipython-input-227-49a7f48384a2>\u001b[0m in \u001b[0;36m<cell line: 1>\u001b[0;34m()\u001b[0m\n\u001b[0;32m----> 1\u001b[0;31m \u001b[0m_\u001b[0m \u001b[0;34m=\u001b[0m \u001b[0malg\u001b[0m\u001b[0;34m(\u001b[0m\u001b[0meigenvector_centrality_cd\u001b[0m\u001b[0;34m,\u001b[0m \u001b[0mG\u001b[0m\u001b[0;34m,\u001b[0m \u001b[0mc\u001b[0m\u001b[0;34m=\u001b[0m\u001b[0;36m1\u001b[0m\u001b[0;34m/\u001b[0m\u001b[0;36m100\u001b[0m\u001b[0;34m)\u001b[0m\u001b[0;34m\u001b[0m\u001b[0;34m\u001b[0m\u001b[0m\n\u001b[0m",
            "\u001b[0;32m<ipython-input-89-02d58505154d>\u001b[0m in \u001b[0;36malg\u001b[0;34m(heuristic, _G, c)\u001b[0m\n\u001b[1;32m     16\u001b[0m \u001b[0;34m\u001b[0m\u001b[0m\n\u001b[1;32m     17\u001b[0m   \u001b[0;32mwhile\u001b[0m \u001b[0msize_gcc\u001b[0m \u001b[0;34m>\u001b[0m \u001b[0mc\u001b[0m \u001b[0;34m*\u001b[0m \u001b[0mN\u001b[0m\u001b[0;34m:\u001b[0m\u001b[0;34m\u001b[0m\u001b[0;34m\u001b[0m\u001b[0m\n\u001b[0;32m---> 18\u001b[0;31m     \u001b[0mnode_to_remove\u001b[0m \u001b[0;34m=\u001b[0m \u001b[0mheuristic\u001b[0m\u001b[0;34m(\u001b[0m\u001b[0mgcc\u001b[0m\u001b[0;34m,\u001b[0m \u001b[0mG\u001b[0m\u001b[0;34m)\u001b[0m\u001b[0;34m\u001b[0m\u001b[0;34m\u001b[0m\u001b[0m\n\u001b[0m\u001b[1;32m     19\u001b[0m     \u001b[0mG\u001b[0m\u001b[0;34m.\u001b[0m\u001b[0mremove_node\u001b[0m\u001b[0;34m(\u001b[0m\u001b[0mnode_to_remove\u001b[0m\u001b[0;34m)\u001b[0m\u001b[0;34m\u001b[0m\u001b[0;34m\u001b[0m\u001b[0m\n\u001b[1;32m     20\u001b[0m     \u001b[0mS\u001b[0m\u001b[0;34m.\u001b[0m\u001b[0mappend\u001b[0m\u001b[0;34m(\u001b[0m\u001b[0mnode_to_remove\u001b[0m\u001b[0;34m)\u001b[0m\u001b[0;34m\u001b[0m\u001b[0;34m\u001b[0m\u001b[0m\n",
            "\u001b[0;32m<ipython-input-191-fc7a50d4e006>\u001b[0m in \u001b[0;36meigenvector_centrality_cd\u001b[0;34m(gcc, G)\u001b[0m\n\u001b[1;32m      2\u001b[0m   \u001b[0;31m# Page 7, https://computationalsocialnetworks.springeropen.com/articles/10.1186/s40649-020-00081-w\u001b[0m\u001b[0;34m\u001b[0m\u001b[0;34m\u001b[0m\u001b[0m\n\u001b[1;32m      3\u001b[0m   \u001b[0;31m# \"Eigenvector centrality is a measure where it is still open how to include the efect of node weights.\"\u001b[0m\u001b[0;34m\u001b[0m\u001b[0;34m\u001b[0m\u001b[0m\n\u001b[0;32m----> 4\u001b[0;31m   \u001b[0mcentrality_dict\u001b[0m \u001b[0;34m=\u001b[0m \u001b[0mnx\u001b[0m\u001b[0;34m.\u001b[0m\u001b[0meigenvector_centrality_numpy\u001b[0m\u001b[0;34m(\u001b[0m\u001b[0mG\u001b[0m\u001b[0;34m.\u001b[0m\u001b[0msubgraph\u001b[0m\u001b[0;34m(\u001b[0m\u001b[0mgcc\u001b[0m\u001b[0;34m)\u001b[0m\u001b[0;34m)\u001b[0m\u001b[0;34m\u001b[0m\u001b[0;34m\u001b[0m\u001b[0m\n\u001b[0m\u001b[1;32m      5\u001b[0m   \u001b[0;32mreturn\u001b[0m \u001b[0mmax\u001b[0m\u001b[0;34m(\u001b[0m\u001b[0mgcc\u001b[0m\u001b[0;34m,\u001b[0m \u001b[0mkey\u001b[0m\u001b[0;34m=\u001b[0m\u001b[0;32mlambda\u001b[0m \u001b[0mv\u001b[0m\u001b[0;34m:\u001b[0m \u001b[0mcentrality_dict\u001b[0m\u001b[0;34m[\u001b[0m\u001b[0mv\u001b[0m\u001b[0;34m]\u001b[0m \u001b[0;34m/\u001b[0m \u001b[0mG\u001b[0m\u001b[0;34m.\u001b[0m\u001b[0mnodes\u001b[0m\u001b[0;34m[\u001b[0m\u001b[0mv\u001b[0m\u001b[0;34m]\u001b[0m\u001b[0;34m[\u001b[0m\u001b[0;34m'node weight'\u001b[0m\u001b[0;34m]\u001b[0m\u001b[0;34m)\u001b[0m\u001b[0;34m\u001b[0m\u001b[0;34m\u001b[0m\u001b[0m\n\u001b[1;32m      6\u001b[0m \u001b[0;34m\u001b[0m\u001b[0m\n",
            "\u001b[0;32m/usr/local/lib/python3.10/dist-packages/networkx/algorithms/centrality/eigenvector.py\u001b[0m in \u001b[0;36meigenvector_centrality_numpy\u001b[0;34m(G, weight, max_iter, tol)\u001b[0m\n\u001b[1;32m    223\u001b[0m         )\n\u001b[1;32m    224\u001b[0m     \u001b[0mM\u001b[0m \u001b[0;34m=\u001b[0m \u001b[0mnx\u001b[0m\u001b[0;34m.\u001b[0m\u001b[0mto_scipy_sparse_array\u001b[0m\u001b[0;34m(\u001b[0m\u001b[0mG\u001b[0m\u001b[0;34m,\u001b[0m \u001b[0mnodelist\u001b[0m\u001b[0;34m=\u001b[0m\u001b[0mlist\u001b[0m\u001b[0;34m(\u001b[0m\u001b[0mG\u001b[0m\u001b[0;34m)\u001b[0m\u001b[0;34m,\u001b[0m \u001b[0mweight\u001b[0m\u001b[0;34m=\u001b[0m\u001b[0mweight\u001b[0m\u001b[0;34m,\u001b[0m \u001b[0mdtype\u001b[0m\u001b[0;34m=\u001b[0m\u001b[0mfloat\u001b[0m\u001b[0;34m)\u001b[0m\u001b[0;34m\u001b[0m\u001b[0;34m\u001b[0m\u001b[0m\n\u001b[0;32m--> 225\u001b[0;31m     _, eigenvector = sp.sparse.linalg.eigs(\n\u001b[0m\u001b[1;32m    226\u001b[0m         \u001b[0mM\u001b[0m\u001b[0;34m.\u001b[0m\u001b[0mT\u001b[0m\u001b[0;34m,\u001b[0m \u001b[0mk\u001b[0m\u001b[0;34m=\u001b[0m\u001b[0;36m1\u001b[0m\u001b[0;34m,\u001b[0m \u001b[0mwhich\u001b[0m\u001b[0;34m=\u001b[0m\u001b[0;34m\"LR\"\u001b[0m\u001b[0;34m,\u001b[0m \u001b[0mmaxiter\u001b[0m\u001b[0;34m=\u001b[0m\u001b[0mmax_iter\u001b[0m\u001b[0;34m,\u001b[0m \u001b[0mtol\u001b[0m\u001b[0;34m=\u001b[0m\u001b[0mtol\u001b[0m\u001b[0;34m\u001b[0m\u001b[0;34m\u001b[0m\u001b[0m\n\u001b[1;32m    227\u001b[0m     )\n",
            "\u001b[0;32m/usr/local/lib/python3.10/dist-packages/scipy/sparse/linalg/_eigen/arpack/arpack.py\u001b[0m in \u001b[0;36meigs\u001b[0;34m(A, k, M, sigma, which, v0, ncv, maxiter, tol, return_eigenvectors, Minv, OPinv, OPpart)\u001b[0m\n\u001b[1;32m   1275\u001b[0m \u001b[0;34m\u001b[0m\u001b[0m\n\u001b[1;32m   1276\u001b[0m         \u001b[0;32mif\u001b[0m \u001b[0missparse\u001b[0m\u001b[0;34m(\u001b[0m\u001b[0mA\u001b[0m\u001b[0;34m)\u001b[0m\u001b[0;34m:\u001b[0m\u001b[0;34m\u001b[0m\u001b[0;34m\u001b[0m\u001b[0m\n\u001b[0;32m-> 1277\u001b[0;31m             raise TypeError(\"Cannot use scipy.linalg.eig for sparse A with \"\n\u001b[0m\u001b[1;32m   1278\u001b[0m                             \u001b[0;34m\"k >= N - 1. Use scipy.linalg.eig(A.toarray()) or\"\u001b[0m\u001b[0;34m\u001b[0m\u001b[0;34m\u001b[0m\u001b[0m\n\u001b[1;32m   1279\u001b[0m                             \" reduce k.\")\n",
            "\u001b[0;31mTypeError\u001b[0m: Cannot use scipy.linalg.eig for sparse A with k >= N - 1. Use scipy.linalg.eig(A.toarray()) or reduce k."
          ]
        }
      ]
    },
    {
      "cell_type": "code",
      "source": [
        "C = 100\n",
        "node_size=50\n",
        "S = gnd(G, C, verbose=False)\n",
        "\n",
        "print(f\"Number of nodes removed: {len(S)}\")\n",
        "print(f\"Nodes removed: {S}\")\n",
        "plt.title(f\"GND\")\n",
        "draw_graph_with_nodes(G, S)\n",
        "plt.figure()\n",
        "plt.title(f\"Dismantled Graph\")\n",
        "g_c2 = G.copy()\n",
        "g_c2.remove_nodes_from(S)\n",
        "draw_graph_ccs(g_c2,node_size=node_size)\n",
        "plt.figure()\n",
        "print(f\"------------\")\n",
        "S_ab, _ = alg(approximate_betweenness_centrality_cd, G, c=C / G.number_of_nodes())\n",
        "print(f\"Nodes removed: {S_ab}\")\n",
        "plt.title(f\"Starting Graph\")\n",
        "draw_graph_with_nodes(G, S_ab,node_size=node_size)\n",
        "plt.figure()\n",
        "plt.title(f\"Dismantled Graph\")\n",
        "g_c2 = G.copy()\n",
        "g_c2.remove_nodes_from(S_ab)\n",
        "draw_graph_ccs(g_c2,node_size=node_size)"
      ],
      "metadata": {
        "id": "AyYTvjcBV0DI",
        "colab": {
          "base_uri": "https://localhost:8080/",
          "height": 1000
        },
        "outputId": "a3932440-130b-4794-8d09-bdec078caa5c"
      },
      "execution_count": null,
      "outputs": [
        {
          "output_type": "stream",
          "name": "stdout",
          "text": [
            "Number of nodes removed: 143\n",
            "Nodes removed: {256, 1, 257, 3, 258, 259, 5, 6, 7, 9, 10, 11, 8, 263, 264, 267, 13, 14, 18, 270, 271, 21, 17, 279, 275, 25, 26, 27, 28, 29, 277, 23, 280, 282, 34, 35, 291, 33, 292, 39, 295, 41, 42, 297, 262, 36, 38, 48, 51, 52, 53, 54, 2, 12, 62, 64, 66, 67, 68, 69, 72, 73, 74, 75, 76, 78, 80, 81, 83, 88, 272, 90, 91, 93, 19, 98, 274, 100, 101, 102, 104, 4, 107, 112, 114, 116, 118, 121, 123, 126, 128, 129, 132, 133, 134, 281, 136, 137, 139, 140, 260, 147, 284, 151, 30, 153, 155, 157, 160, 162, 163, 165, 169, 170, 172, 179, 180, 183, 189, 190, 191, 193, 194, 199, 202, 205, 207, 208, 213, 214, 215, 218, 219, 222, 241, 242, 243, 244, 245, 248, 251, 253, 254}\n",
            "------------\n",
            "Removed 120 nodes from G.\n",
            "Cost: 120\n",
            "Time elapsed: 1.763s\n",
            "Nodes removed: [264, 114, 245, 213, 108, 16, 98, 155, 18, 205, 133, 88, 37, 103, 219, 75, 26, 274, 216, 5, 193, 90, 125, 207, 36, 122, 129, 137, 170, 260, 162, 166, 28, 269, 123, 209, 82, 169, 182, 134, 53, 135, 150, 139, 89, 24, 119, 10, 253, 146, 179, 242, 102, 71, 246, 262, 12, 32, 161, 64, 287, 132, 267, 51, 192, 272, 281, 78, 183, 74, 100, 247, 191, 128, 6, 222, 196, 298, 7, 95, 42, 27, 20, 292, 202, 295, 211, 227, 208, 9, 215, 173, 233, 19, 31, 275, 157, 25, 261, 223, 158, 270, 107, 80, 117, 201, 45, 293, 165, 30, 204, 15, 33, 13, 257, 38, 50, 156, 171, 285]\n"
          ]
        },
        {
          "output_type": "display_data",
          "data": {
            "text/plain": [
              "<Figure size 640x480 with 1 Axes>"
            ],
            "image/png": "[encoded data removed]"
          },
          "metadata": {}
        },
        {
          "output_type": "display_data",
          "data": {
            "text/plain": [
              "<Figure size 640x480 with 1 Axes>"
            ],
            "image/png": "[encoded data removed]"
          },
          "metadata": {}
        },
        {
          "output_type": "display_data",
          "data": {
            "text/plain": [
              "<Figure size 640x480 with 1 Axes>"
            ],
            "image/png": "[encoded data removed]"
          },
          "metadata": {}
        },
        {
          "output_type": "display_data",
          "data": {
            "text/plain": [
              "<Figure size 640x480 with 1 Axes>"
            ],
            "image/png": "[encoded data removed]"
          },
          "metadata": {}
        }
      ]
    },
    {
      "cell_type": "code",
      "source": [],
      "metadata": {
        "id": "ODYH2Vspkva8"
      },
      "execution_count": null,
      "outputs": []
    },
    {
      "cell_type": "markdown",
      "source": [
        "More centralities:\n",
        "* https://journals.plos.org/plosone/article?id=10.1371/journal.pone.0012200"
      ],
      "metadata": {
        "id": "mLZML2UQ1rHg"
      }
    },
    {
      "cell_type": "markdown",
      "source": [
        "# Testing"
      ],
      "metadata": {
        "id": "A576QwUAeplI"
      }
    },
    {
      "cell_type": "code",
      "source": [
        "def assign_weights_randomly(G):\n",
        "  H = G.copy()\n",
        "  for n in H.nodes:\n",
        "    H.nodes[n]['node weight'] = np.random.randint(1,10)\n",
        "  return H\n",
        "\n",
        "def test_heuristics(G, heuristics, name=\"No name provided\", c=0.2, verbose=False):\n",
        "  results = []\n",
        "  print(\"Graph:\", name)\n",
        "  print(\"n:\", G.number_of_nodes(), \"m:\", G.number_of_edges())\n",
        "  print(\"\")\n",
        "  for heuristic in heuristics:\n",
        "    name = heuristic[0]\n",
        "    h = heuristic[1]\n",
        "    print(\"Testing\", name)\n",
        "    results.append((name, alg(h, G, c)))\n",
        "    print(\"\")\n",
        "  # Test GND separately\n",
        "  #print(\"Testing GND\")\n",
        "  #print(\"\")\n",
        "  #results.append((\"GND\", gnd(G, c)))\n",
        "  return results\n",
        "\n",
        "def draw_results(results):\n",
        "  for result in results:\n",
        "    name = result[0]\n",
        "    S, graph = result[1]\n",
        "    print(\"Results for\", name)\n",
        "    print(\"Set S of removed vertices:\", S)\n",
        "    print(\"Resulting graph, G':\")\n",
        "    nx.draw(graph)"
      ],
      "metadata": {
        "id": "gmP2FsRD99jk"
      },
      "execution_count": null,
      "outputs": []
    },
    {
      "cell_type": "code",
      "source": [
        "### Graph generation ###\n",
        "BA_s = nx.barabasi_albert_graph(100, 10)\n",
        "BA_s_weighted = assign_weights_randomly(BA_s)\n",
        "\n",
        "BA_l = nx.barabasi_albert_graph(500, 50)\n",
        "BA_l_weighted = assign_weights_randomly(BA_l)\n",
        "\n",
        "Reg_s = nx.random_regular_graph(10, 100)\n",
        "Reg_s_weighted = assign_weights_randomly(Reg_s)\n",
        "\n",
        "Reg_l = nx.random_regular_graph(50, 500)\n",
        "Reg_l_weighted = assign_weights_randomly(Reg_l)\n",
        "\n",
        "ER_s = nx.erdos_renyi_graph(100, 0.1)\n",
        "ER_s_weighted = assign_weights_randomly(ER_s)\n",
        "\n",
        "ER_l = nx.erdos_renyi_graph(500, 0.1)\n",
        "ER_l_weighted = assign_weights_randomly(ER_l)\n",
        "\n",
        "\n",
        "Lobster_s = nx.random_lobster(100, 0.1, 0.1)\n",
        "Lobster_s_weighted = assign_weights_randomly(Lobster_s)\n",
        "\n",
        "Lobster_l = nx.random_lobster(500, 0.1, 0.1)\n",
        "Lobster_l_weighted = assign_weights_randomly(Lobster_l)\n",
        "\n",
        "WS_s = nx.watts_strogatz_graph(100, 5, 0.1)\n",
        "WS_s_weighted = assign_weights_randomly(WS_s)\n",
        "\n",
        "WS_l = nx.watts_strogatz_graph(100, 5, 0.1)\n",
        "WS_l_weighted = assign_weights_randomly(WS_l)\n",
        "\n",
        "\n",
        "Barbell_s = nx.barbell_graph(100, 1)\n",
        "Barbell_s_weighted = assign_weights_randomly(Barbell_s)\n",
        "\n",
        "Barbell_l = nx.barbell_graph(500, 5)\n",
        "Barbell_l_weighted = assign_weights_randomly(Barbell_l)\n"
      ],
      "metadata": {
        "id": "7KsMbCpR9k3l",
        "colab": {
          "base_uri": "https://localhost:8080/",
          "height": 235
        },
        "outputId": "63342be6-6826-43b0-dacb-fe4e12cf9711"
      },
      "execution_count": null,
      "outputs": [
        {
          "output_type": "error",
          "ename": "NameError",
          "evalue": "ignored",
          "traceback": [
            "\u001b[0;31m---------------------------------------------------------------------------\u001b[0m",
            "\u001b[0;31mNameError\u001b[0m                                 Traceback (most recent call last)",
            "\u001b[0;32m<ipython-input-7-4c9e50268e73>\u001b[0m in \u001b[0;36m<cell line: 3>\u001b[0;34m()\u001b[0m\n\u001b[1;32m      1\u001b[0m \u001b[0;31m### Graph generation ###\u001b[0m\u001b[0;34m\u001b[0m\u001b[0;34m\u001b[0m\u001b[0m\n\u001b[1;32m      2\u001b[0m \u001b[0mBA_s\u001b[0m \u001b[0;34m=\u001b[0m \u001b[0mnx\u001b[0m\u001b[0;34m.\u001b[0m\u001b[0mbarabasi_albert_graph\u001b[0m\u001b[0;34m(\u001b[0m\u001b[0;36m100\u001b[0m\u001b[0;34m,\u001b[0m \u001b[0;36m10\u001b[0m\u001b[0;34m)\u001b[0m\u001b[0;34m\u001b[0m\u001b[0;34m\u001b[0m\u001b[0m\n\u001b[0;32m----> 3\u001b[0;31m \u001b[0mBA_s_weighted\u001b[0m \u001b[0;34m=\u001b[0m \u001b[0massign_weights_randomly\u001b[0m\u001b[0;34m(\u001b[0m\u001b[0mBA_s\u001b[0m\u001b[0;34m)\u001b[0m\u001b[0;34m\u001b[0m\u001b[0;34m\u001b[0m\u001b[0m\n\u001b[0m\u001b[1;32m      4\u001b[0m \u001b[0;34m\u001b[0m\u001b[0m\n\u001b[1;32m      5\u001b[0m \u001b[0mBA_l\u001b[0m \u001b[0;34m=\u001b[0m \u001b[0mnx\u001b[0m\u001b[0;34m.\u001b[0m\u001b[0mbarabasi_albert_graph\u001b[0m\u001b[0;34m(\u001b[0m\u001b[0;36m500\u001b[0m\u001b[0;34m,\u001b[0m \u001b[0;36m50\u001b[0m\u001b[0;34m)\u001b[0m\u001b[0;34m\u001b[0m\u001b[0;34m\u001b[0m\u001b[0m\n",
            "\u001b[0;31mNameError\u001b[0m: name 'assign_weights_randomly' is not defined"
          ]
        }
      ]
    },
    {
      "cell_type": "code",
      "source": [
        "## Testing small ER graph ##\n",
        "results_ER_s = test_heuristics(ER_s_weighted, heuristics, \"Small ER\")"
      ],
      "metadata": {
        "colab": {
          "base_uri": "https://localhost:8080/"
        },
        "id": "gSOhywDPAn0Y",
        "outputId": "2fcc911a-98fd-481d-fe93-ba71e418676a"
      },
      "execution_count": null,
      "outputs": [
        {
          "output_type": "stream",
          "name": "stdout",
          "text": [
            "Graph: Small ER\n",
            "n: 100 m: 457\n",
            "\n",
            "Testing remove_lightest_node\n",
            "Removed 76 nodes from G.\n",
            "Cost: 341\n",
            "Time elapsed: 0.072s\n",
            "\n",
            "Testing betweenness_centrality_cd\n",
            "Removed 57 nodes from G.\n",
            "Cost: 257\n",
            "Time elapsed: 2.578s\n",
            "\n",
            "Testing betweenness_centrality_endpoint_weights\n",
            "Removed 50 nodes from G.\n",
            "Cost: 286\n",
            "Time elapsed: 5.807s\n",
            "\n",
            "Testing approximate_betweenness_centrality_wsp\n",
            "Removed 56 nodes from G.\n",
            "Cost: 300\n",
            "Time elapsed: 0.237s\n",
            "\n",
            "Testing approximate_betweenness_centrality_cd\n",
            "Removed 60 nodes from G.\n",
            "Cost: 282\n",
            "Time elapsed: 0.15s\n",
            "\n",
            "Testing degree_centrality\n",
            "Removed 52 nodes from G.\n",
            "Cost: 262\n",
            "Time elapsed: 0.05s\n",
            "\n",
            "Testing eigenvector_centrality_cd\n",
            "Removed 62 nodes from G.\n",
            "Cost: 265\n",
            "Time elapsed: 0.27s\n",
            "\n",
            "Testing eigenvector_centrality_weighted_adj\n",
            "Removed 53 nodes from G.\n",
            "Cost: 296\n",
            "Time elapsed: 0.199s\n",
            "\n",
            "Testing eigenvector_centrality_cd\n",
            "Removed 62 nodes from G.\n",
            "Cost: 265\n",
            "Time elapsed: 0.184s\n",
            "\n"
          ]
        }
      ]
    },
    {
      "cell_type": "code",
      "source": [
        "## Testing large ER graph ##\n",
        "results_ER_l = test_heuristics(ER_l_weighted, heuristics_no_bc, \"Large ER\")"
      ],
      "metadata": {
        "colab": {
          "base_uri": "https://localhost:8080/"
        },
        "id": "4ivNZxpD-EBF",
        "outputId": "197edc10-9215-42b0-ff7a-5be0bf8e2a70"
      },
      "execution_count": null,
      "outputs": [
        {
          "output_type": "stream",
          "name": "stdout",
          "text": [
            "Graph: Large ER\n",
            "n: 500 m: 12342\n",
            "\n",
            "Testing remove_lightest_node\n",
            "Removed 400 nodes from G.\n",
            "Cost: 1685\n",
            "Time elapsed: 0.32s\n",
            "\n",
            "Testing approximate_betweenness_centrality_wsp\n",
            "Removed 398 nodes from G.\n",
            "Cost: 2032\n",
            "Time elapsed: 43.01s\n",
            "\n",
            "Testing approximate_betweenness_centrality_cd\n",
            "Removed 398 nodes from G.\n",
            "Cost: 1794\n",
            "Time elapsed: 17.678s\n",
            "\n",
            "Testing degree_centrality\n",
            "Removed 399 nodes from G.\n",
            "Cost: 1902\n",
            "Time elapsed: 3.651s\n",
            "\n",
            "Testing eigenvector_centrality_cd\n",
            "Removed 400 nodes from G.\n",
            "Cost: 1746\n",
            "Time elapsed: 18.161s\n",
            "\n",
            "Testing eigenvector_centrality_weighted_adj\n",
            "Removed 400 nodes from G.\n",
            "Cost: 2040\n",
            "Time elapsed: 6.251s\n",
            "\n",
            "Testing eigenvector_centrality_cd\n",
            "Removed 400 nodes from G.\n",
            "Cost: 1746\n",
            "Time elapsed: 9.05s\n",
            "\n"
          ]
        }
      ]
    },
    {
      "cell_type": "code",
      "source": [
        "## Testing small lobster graph ##\n",
        "results_Lobster_s = test_heuristics(Lobster_s_weighted, heuristics, \"Small Lobster\")"
      ],
      "metadata": {
        "colab": {
          "base_uri": "https://localhost:8080/"
        },
        "id": "QZRTdPVn_UVa",
        "outputId": "ebe26827-0f0c-451a-eac0-c81f23e2e583"
      },
      "execution_count": null,
      "outputs": [
        {
          "output_type": "stream",
          "name": "stdout",
          "text": [
            "Graph: Small Lobster\n",
            "n: 74 m: 73\n",
            "\n",
            "Testing remove_lightest_node\n",
            "Removed 11 nodes from G.\n",
            "Cost: 15\n",
            "Time elapsed: 0.002s\n",
            "\n",
            "Testing betweenness_centrality_cd\n",
            "Removed 5 nodes from G.\n",
            "Cost: 8\n",
            "Time elapsed: 0.104s\n",
            "\n",
            "Testing betweenness_centrality_endpoint_weights\n",
            "Removed 7 nodes from G.\n",
            "Cost: 47\n",
            "Time elapsed: 0.529s\n",
            "\n",
            "Testing approximate_betweenness_centrality_wsp\n",
            "Removed 5 nodes from G.\n",
            "Cost: 34\n",
            "Time elapsed: 0.008s\n",
            "\n",
            "Testing approximate_betweenness_centrality_cd\n",
            "Removed 5 nodes from G.\n",
            "Cost: 8\n",
            "Time elapsed: 0.007s\n",
            "\n",
            "Testing degree_centrality\n",
            "Removed 6 nodes from G.\n",
            "Cost: 21\n",
            "Time elapsed: 0.004s\n",
            "\n",
            "Testing eigenvector_centrality_cd\n",
            "Removed 7 nodes from G.\n",
            "Cost: 17\n",
            "Time elapsed: 0.03s\n",
            "\n",
            "Testing eigenvector_centrality_weighted_adj\n",
            "Removed 6 nodes from G.\n",
            "Cost: 42\n",
            "Time elapsed: 0.009s\n",
            "\n",
            "Testing eigenvector_centrality_cd\n",
            "Removed 7 nodes from G.\n",
            "Cost: 17\n",
            "Time elapsed: 0.012s\n",
            "\n"
          ]
        }
      ]
    },
    {
      "cell_type": "code",
      "source": [
        "## Testing large lobster graph ##\n",
        "results_Lobster_l = test_heuristics(Lobster_l_weighted, heuristics_no_bc, \"Large Lobster\")"
      ],
      "metadata": {
        "colab": {
          "base_uri": "https://localhost:8080/"
        },
        "id": "hzTE2d-ZB4Gu",
        "outputId": "8e74337d-21ca-4f98-8049-1f5438a06ffb"
      },
      "execution_count": null,
      "outputs": [
        {
          "output_type": "stream",
          "name": "stdout",
          "text": [
            "Graph: Large Lobster\n",
            "n: 1004 m: 1003\n",
            "\n",
            "Testing remove_lightest_node\n",
            "Removed 82 nodes from G.\n",
            "Cost: 82\n",
            "Time elapsed: 0.114s\n",
            "\n",
            "Testing approximate_betweenness_centrality_wsp\n",
            "Removed 7 nodes from G.\n",
            "Cost: 36\n",
            "Time elapsed: 0.182s\n",
            "\n",
            "Testing approximate_betweenness_centrality_cd\n",
            "Removed 6 nodes from G.\n",
            "Cost: 6\n",
            "Time elapsed: 0.112s\n",
            "\n",
            "Testing degree_centrality\n",
            "Removed 10 nodes from G.\n",
            "Cost: 50\n",
            "Time elapsed: 0.059s\n",
            "\n",
            "Testing eigenvector_centrality_cd\n",
            "Removed 18 nodes from G.\n",
            "Cost: 30\n",
            "Time elapsed: 0.539s\n",
            "\n",
            "Testing eigenvector_centrality_weighted_adj\n",
            "Removed 11 nodes from G.\n",
            "Cost: 48\n",
            "Time elapsed: 0.272s\n",
            "\n",
            "Testing eigenvector_centrality_cd\n",
            "Removed 16 nodes from G.\n",
            "Cost: 23\n",
            "Time elapsed: 0.572s\n",
            "\n"
          ]
        }
      ]
    },
    {
      "cell_type": "code",
      "source": [
        "## Testing small Watts-Strogatz graph ##\n",
        "results_WS_s = test_heuristics(WS_s_weighted, heuristics, \"Small Watts-Strogatz\")"
      ],
      "metadata": {
        "colab": {
          "base_uri": "https://localhost:8080/"
        },
        "id": "MUuC9-niCDz8",
        "outputId": "34e2fd96-06c9-4ddd-b7d3-2b072dd2ced4"
      },
      "execution_count": null,
      "outputs": [
        {
          "output_type": "stream",
          "name": "stdout",
          "text": [
            "Graph: Small Watts-Strogatz\n",
            "n: 100 m: 200\n",
            "\n",
            "Testing remove_lightest_node\n",
            "Removed 54 nodes from G.\n",
            "Cost: 172\n",
            "Time elapsed: 0.019s\n",
            "\n",
            "Testing betweenness_centrality_cd\n",
            "Removed 24 nodes from G.\n",
            "Cost: 66\n",
            "Time elapsed: 0.949s\n",
            "\n",
            "Testing betweenness_centrality_endpoint_weights\n",
            "Removed 15 nodes from G.\n",
            "Cost: 73\n",
            "Time elapsed: 2.27s\n",
            "\n",
            "Testing approximate_betweenness_centrality_wsp\n",
            "Removed 19 nodes from G.\n",
            "Cost: 97\n",
            "Time elapsed: 0.077s\n",
            "\n",
            "Testing approximate_betweenness_centrality_cd\n",
            "Removed 21 nodes from G.\n",
            "Cost: 60\n",
            "Time elapsed: 0.047s\n",
            "\n",
            "Testing degree_centrality\n",
            "Removed 37 nodes from G.\n",
            "Cost: 147\n",
            "Time elapsed: 0.025s\n",
            "\n",
            "Testing eigenvector_centrality_cd\n",
            "Removed 35 nodes from G.\n",
            "Cost: 97\n",
            "Time elapsed: 0.267s\n",
            "\n",
            "Testing eigenvector_centrality_weighted_adj\n",
            "Removed 30 nodes from G.\n",
            "Cost: 156\n",
            "Time elapsed: 0.127s\n",
            "\n",
            "Testing eigenvector_centrality_cd\n",
            "Removed 35 nodes from G.\n",
            "Cost: 97\n",
            "Time elapsed: 0.185s\n",
            "\n"
          ]
        }
      ]
    },
    {
      "cell_type": "code",
      "source": [
        "## Testing large Watts-Strogatz graph ##\n",
        "results_WS_l = test_heuristics(WS_l_weighted, heuristics_no_bc, \"Large Watts-Strogatz\")"
      ],
      "metadata": {
        "colab": {
          "base_uri": "https://localhost:8080/"
        },
        "id": "sFLdhvG0B6WK",
        "outputId": "6ca26e23-2707-418a-dd17-85e33c82f2ae"
      },
      "execution_count": null,
      "outputs": [
        {
          "output_type": "stream",
          "name": "stdout",
          "text": [
            "Graph: Large Watts-Strogatz\n",
            "n: 100 m: 200\n",
            "\n",
            "Testing remove_lightest_node\n",
            "Removed 43 nodes from G.\n",
            "Cost: 109\n",
            "Time elapsed: 0.024s\n",
            "\n",
            "Testing approximate_betweenness_centrality_wsp\n",
            "Removed 24 nodes from G.\n",
            "Cost: 110\n",
            "Time elapsed: 0.159s\n",
            "\n",
            "Testing approximate_betweenness_centrality_cd\n",
            "Removed 29 nodes from G.\n",
            "Cost: 71\n",
            "Time elapsed: 0.1s\n",
            "\n",
            "Testing degree_centrality\n",
            "Removed 30 nodes from G.\n",
            "Cost: 114\n",
            "Time elapsed: 0.044s\n",
            "\n",
            "Testing eigenvector_centrality_cd\n",
            "Removed 42 nodes from G.\n",
            "Cost: 122\n",
            "Time elapsed: 0.409s\n",
            "\n",
            "Testing eigenvector_centrality_weighted_adj\n",
            "Removed 30 nodes from G.\n",
            "Cost: 169\n",
            "Time elapsed: 0.175s\n",
            "\n",
            "Testing eigenvector_centrality_cd\n",
            "Removed 40 nodes from G.\n",
            "Cost: 111\n",
            "Time elapsed: 0.206s\n",
            "\n"
          ]
        }
      ]
    },
    {
      "cell_type": "code",
      "source": [
        "## Testing small Barbell graph ##\n",
        "results_Barbell_s = test_heuristics(Barbell_s_weighted, heuristics, \"Small Barbell\")"
      ],
      "metadata": {
        "colab": {
          "base_uri": "https://localhost:8080/"
        },
        "id": "QI8T9qAwB6qZ",
        "outputId": "da414be6-6f18-4356-dd95-75b6275abb04"
      },
      "execution_count": null,
      "outputs": [
        {
          "output_type": "stream",
          "name": "stdout",
          "text": [
            "Graph: Small Barbell\n",
            "n: 201 m: 9902\n",
            "\n",
            "Testing remove_lightest_node\n",
            "Removed 121 nodes from G.\n",
            "Cost: 415\n",
            "Time elapsed: 0.121s\n",
            "\n",
            "Testing betweenness_centrality_cd\n",
            "Removed 120 nodes from G.\n",
            "Cost: 617\n",
            "Time elapsed: 32.221s\n",
            "\n",
            "Testing betweenness_centrality_endpoint_weights\n",
            "Removed 120 nodes from G.\n",
            "Cost: 826\n",
            "Time elapsed: 36.42s\n",
            "\n",
            "Testing approximate_betweenness_centrality_wsp\n",
            "Removed 120 nodes from G.\n",
            "Cost: 617\n",
            "Time elapsed: 3.785s\n",
            "\n",
            "Testing approximate_betweenness_centrality_cd\n",
            "Removed 120 nodes from G.\n",
            "Cost: 617\n",
            "Time elapsed: 1.474s\n",
            "\n",
            "Testing degree_centrality\n",
            "Removed 120 nodes from G.\n",
            "Cost: 413\n",
            "Time elapsed: 0.576s\n",
            "\n",
            "Testing eigenvector_centrality_cd\n",
            "Removed 121 nodes from G.\n",
            "Cost: 417\n",
            "Time elapsed: 3.786s\n",
            "\n",
            "Testing eigenvector_centrality_weighted_adj\n",
            "Removed 120 nodes from G.\n",
            "Cost: 640\n",
            "Time elapsed: 2.437s\n",
            "\n",
            "Testing eigenvector_centrality_cd\n",
            "Removed 121 nodes from G.\n",
            "Cost: 417\n",
            "Time elapsed: 1.895s\n",
            "\n"
          ]
        }
      ]
    },
    {
      "cell_type": "code",
      "source": [
        "## Testing large Barbell graph ##\n",
        "results_Barbell_l = test_heuristics(Barbell_l_weighted, heuristics_no_bc, \"Large Barbell\")"
      ],
      "metadata": {
        "colab": {
          "base_uri": "https://localhost:8080/"
        },
        "id": "RpCbCKwICxxO",
        "outputId": "29de0113-3d0c-4167-bf7e-5f02283584ef"
      },
      "execution_count": null,
      "outputs": [
        {
          "output_type": "stream",
          "name": "stdout",
          "text": [
            "Graph: Large Barbell\n",
            "n: 1005 m: 249506\n",
            "\n",
            "Testing remove_lightest_node\n",
            "Removed 603 nodes from G.\n",
            "Cost: 1987\n",
            "Time elapsed: 5.393s\n",
            "\n",
            "Testing approximate_betweenness_centrality_wsp\n",
            "Removed 599 nodes from G.\n",
            "Cost: 2988\n",
            "Time elapsed: 741.925s\n",
            "\n",
            "Testing approximate_betweenness_centrality_cd\n"
          ]
        }
      ]
    },
    {
      "cell_type": "code",
      "source": [
        "## Testing small Barabási-Albert graph ##\n",
        "results_BA_s = test_heuristics(BA_s_weighted, heuristics, \"Small Barabási-Albert\")"
      ],
      "metadata": {
        "id": "N4POznDIFiV2"
      },
      "execution_count": null,
      "outputs": []
    },
    {
      "cell_type": "code",
      "source": [
        "## Testing large Barabási-Albert graph ##\n",
        "results_BA_l = test_heuristics(BA_l_weighted, heuristics_no_bc, \"Large Barabási-Albert\")"
      ],
      "metadata": {
        "id": "XhyU1ykPFino"
      },
      "execution_count": null,
      "outputs": []
    },
    {
      "cell_type": "code",
      "source": [
        "## Testing small regular graph ##\n",
        "results_Reg_s = test_heuristics(Reg_s_weighted, heuristics, \"Small Regular\")"
      ],
      "metadata": {
        "id": "fMh9tmeP2ySY"
      },
      "execution_count": null,
      "outputs": []
    },
    {
      "cell_type": "code",
      "source": [
        "## Testing large regular graph ##\n",
        "results_Reg_l = test_heuristics(Reg_l_weighted, heuristics_no_bc, \"Large Regular\")"
      ],
      "metadata": {
        "id": "Kj-MZC4o3AX_"
      },
      "execution_count": null,
      "outputs": []
    },
    {
      "cell_type": "code",
      "source": [
        "# Generate a sea-urchin-sistine-chapel (SUSC) graph\n",
        "def susc_generator(num_spikes, path_length, p=0):\n",
        "  \n",
        "  assert p <= 1\n",
        "  assert p >= 0\n",
        "\n",
        "  G = nx.Graph()\n",
        "  k = 0 # constant to differentiate the two urchins\n",
        "  \n",
        "  # Urchin 1\n",
        "  urchin_1 = 0\n",
        "  G.add_node(urchin_1)\n",
        "  k += 1\n",
        "\n",
        "  for i in range(num_spikes):\n",
        "    G.add_edge(k, urchin_1) # Add spike to urchin\n",
        "    k += 1\n",
        "\n",
        "  # Probabilistically add edges between spikes\n",
        "\n",
        "  if p > 0:\n",
        "    for i in range(num_spikes):\n",
        "      for j in range(num_spikes):\n",
        "        if i == j:\n",
        "          continue\n",
        "        spike_1 = i + 1 + urchin_1\n",
        "        spike_2 = j + 1 + urchin_1\n",
        "        if random.uniform(0, 1) <= p:\n",
        "          G.add_edge(spike_1, spike_2)\n",
        "\n",
        "\n",
        "  urchin_2 = k\n",
        "  \n",
        "  G.add_node(urchin_2)\n",
        "\n",
        "  k += 1\n",
        "\n",
        "  # Urchin 2\n",
        "\n",
        "\n",
        "  for i in range(num_spikes):\n",
        "    G.add_edge(k, urchin_2) # Add spike to urchin\n",
        "    k += 1\n",
        "\n",
        "  if p > 0:\n",
        "    for i in range(num_spikes):\n",
        "      for j in range(num_spikes):\n",
        "        if i == j:\n",
        "          continue\n",
        "        spike_1 = i + urchin_2 + 1\n",
        "        spike_2 = j + urchin_2 + 1\n",
        "        if random.uniform(0, 1) <= p:\n",
        "          G.add_edge(spike_1, spike_2)\n",
        "\n",
        "\n",
        "  # Path\n",
        "\n",
        "  if path_length == 0:\n",
        "    G.add_edge(urchin_1, urchin_2)\n",
        "  else:\n",
        "    count = G.number_of_nodes() + 1\n",
        "    start = count\n",
        "\n",
        "    for i in range(path_length - 1):\n",
        "      G.add_edge(count, count + 1)\n",
        "      count += 1\n",
        "    \n",
        "    end = count\n",
        "\n",
        "    G.add_edge(start, urchin_1)\n",
        "    G.add_edge(end, urchin_2)\n",
        "\n",
        "  return G"
      ],
      "metadata": {
        "id": "rruKO1B5aQC5"
      },
      "execution_count": null,
      "outputs": []
    }
  ]
}