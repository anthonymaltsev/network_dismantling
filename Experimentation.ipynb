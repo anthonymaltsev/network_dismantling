{
 "cells": [
  {
   "cell_type": "code",
   "execution_count": null,
   "metadata": {
    "id": "Jdmyg47uWcPx",
    "tags": []
   },
   "outputs": [],
   "source": [
    "import networkx as nx\n",
    "import matplotlib.pyplot as plt\n",
    "import numpy as np\n",
    "import random\n",
    "import time\n",
    "import math"
   ]
  },
  {
   "cell_type": "code",
   "execution_count": null,
   "metadata": {
    "tags": []
   },
   "outputs": [],
   "source": [
    "from nd_code import *"
   ]
  },
  {
   "attachments": {},
   "cell_type": "markdown",
   "metadata": {},
   "source": [
    "# Simple Testing"
   ]
  },
  {
   "cell_type": "code",
   "execution_count": null,
   "metadata": {
    "id": "pv5H2wUfVKeO"
   },
   "outputs": [],
   "source": [
    "G = nx.erdos_renyi_graph(100, 0.1)\n",
    "# G = susc_generator(20, 2, p=0)\n",
    "# G = nx.random_lobster(200, 0.15, 0.15)\n",
    "for n in G.nodes:\n",
    "  G.nodes[n]['node weight'] = 100 * (1 - random.randrange(0, 1))\n",
    "\n",
    "for e in G.edges:\n",
    "  u, v = e\n",
    "  G.edges[e]['edge weight'] = G.nodes[u]['node weight'] + G.nodes[v]['node weight']"
   ]
  },
  {
   "cell_type": "code",
   "execution_count": null,
   "metadata": {
    "colab": {
     "base_uri": "https://localhost:8080/",
     "height": 1000
    },
    "id": "AyYTvjcBV0DI",
    "outputId": "a3932440-130b-4794-8d09-bdec078caa5c"
   },
   "outputs": [],
   "source": [
    "C = 100\n",
    "node_size=50\n",
    "\n",
    "## Compare GND against AB\n",
    "\n",
    "S = gnd(G, C, verbose=False)\n",
    "print(f\"Number of nodes removed: {len(S)}\")\n",
    "print(f\"Nodes removed: {S}\")\n",
    "plt.title(f\"GND Starting Graph\")\n",
    "draw_graph_with_nodes(G, S, node_size=node_size)\n",
    "plt.figure()\n",
    "plt.title(f\"GND Dismantled Graph\")\n",
    "g_c2 = G.copy()\n",
    "g_c2.remove_nodes_from(S)\n",
    "draw_graph_ccs(g_c2,node_size=node_size)\n",
    "plt.figure()\n",
    "\n",
    "print(f\"------------\")\n",
    "\n",
    "S_ab, _ = greedy_algorithm(approximate_betweenness_centrality_cd, G, c=C / G.number_of_nodes())\n",
    "print(f\"Nodes removed: {S_ab}\")\n",
    "plt.title(f\"AB Starting Graph\")\n",
    "draw_graph_with_nodes(G, S_ab,node_size=node_size)\n",
    "plt.figure()\n",
    "plt.title(f\"AB Dismantled Graph\")\n",
    "g_c2 = G.copy()\n",
    "g_c2.remove_nodes_from(S_ab)\n",
    "draw_graph_ccs(g_c2,node_size=node_size)"
   ]
  }
 ],
 "metadata": {
  "colab": {
   "collapsed_sections": [
    "QynRmnmXtC-Y",
    "Ew7brswjs6W-",
    "cbULcPhds_tX"
   ],
   "provenance": []
  },
  "kernelspec": {
   "display_name": "Python 3 (ipykernel)",
   "language": "python",
   "name": "python3"
  },
  "language_info": {
   "codemirror_mode": {
    "name": "ipython",
    "version": 3
   },
   "file_extension": ".py",
   "mimetype": "text/x-python",
   "name": "python",
   "nbconvert_exporter": "python",
   "pygments_lexer": "ipython3",
   "version": "3.8.10"
  }
 },
 "nbformat": 4,
 "nbformat_minor": 4
}
